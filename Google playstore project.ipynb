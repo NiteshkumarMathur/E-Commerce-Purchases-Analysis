{
 "cells": [
  {
   "cell_type": "markdown",
   "id": "eb73cb36-0391-45ff-9f4e-285b185ddea7",
   "metadata": {},
   "source": [
    "# GOOGLE PLAYSTORE ANALYSIS\n",
    "## Import Numpy and Pandas"
   ]
  },
  {
   "cell_type": "code",
   "execution_count": 1,
   "id": "04c04136-0afe-4bbf-afe4-ba17d0077492",
   "metadata": {},
   "outputs": [],
   "source": [
    "import numpy as np \n",
    "import pandas as pd\n",
    "import matplotlib.pyplot as plt"
   ]
  },
  {
   "cell_type": "markdown",
   "id": "94561ea0-8e42-4c73-b77d-900c5f4f5a0a",
   "metadata": {},
   "source": [
    "# Importing the data"
   ]
  },
  {
   "cell_type": "code",
   "execution_count": 2,
   "id": "c5fdf852-3241-449d-9f2f-46e510077a85",
   "metadata": {},
   "outputs": [
    {
     "data": {
      "text/html": [
       "<div>\n",
       "<style scoped>\n",
       "    .dataframe tbody tr th:only-of-type {\n",
       "        vertical-align: middle;\n",
       "    }\n",
       "\n",
       "    .dataframe tbody tr th {\n",
       "        vertical-align: top;\n",
       "    }\n",
       "\n",
       "    .dataframe thead th {\n",
       "        text-align: right;\n",
       "    }\n",
       "</style>\n",
       "<table border=\"1\" class=\"dataframe\">\n",
       "  <thead>\n",
       "    <tr style=\"text-align: right;\">\n",
       "      <th></th>\n",
       "      <th>Address</th>\n",
       "      <th>Lot</th>\n",
       "      <th>AM or PM</th>\n",
       "      <th>Browser Info</th>\n",
       "      <th>Company</th>\n",
       "      <th>Credit Card</th>\n",
       "      <th>CC Exp Date</th>\n",
       "      <th>CC Security Code</th>\n",
       "      <th>CC Provider</th>\n",
       "      <th>Email</th>\n",
       "      <th>Job</th>\n",
       "      <th>IP Address</th>\n",
       "      <th>Language</th>\n",
       "      <th>Purchase Price</th>\n",
       "    </tr>\n",
       "  </thead>\n",
       "  <tbody>\n",
       "    <tr>\n",
       "      <th>0</th>\n",
       "      <td>16629 Pace Camp Apt. 448\\nAlexisborough, NE 77...</td>\n",
       "      <td>46 in</td>\n",
       "      <td>PM</td>\n",
       "      <td>Opera/9.56.(X11; Linux x86_64; sl-SI) Presto/2...</td>\n",
       "      <td>Martinez-Herman</td>\n",
       "      <td>6011929061123406</td>\n",
       "      <td>02/20</td>\n",
       "      <td>900</td>\n",
       "      <td>JCB 16 digit</td>\n",
       "      <td>pdunlap@yahoo.com</td>\n",
       "      <td>Scientist, product/process development</td>\n",
       "      <td>149.146.147.205</td>\n",
       "      <td>el</td>\n",
       "      <td>98.14</td>\n",
       "    </tr>\n",
       "    <tr>\n",
       "      <th>1</th>\n",
       "      <td>9374 Jasmine Spurs Suite 508\\nSouth John, TN 8...</td>\n",
       "      <td>28 rn</td>\n",
       "      <td>PM</td>\n",
       "      <td>Opera/8.93.(Windows 98; Win 9x 4.90; en-US) Pr...</td>\n",
       "      <td>Fletcher, Richards and Whitaker</td>\n",
       "      <td>3337758169645356</td>\n",
       "      <td>11/18</td>\n",
       "      <td>561</td>\n",
       "      <td>Mastercard</td>\n",
       "      <td>anthony41@reed.com</td>\n",
       "      <td>Drilling engineer</td>\n",
       "      <td>15.160.41.51</td>\n",
       "      <td>fr</td>\n",
       "      <td>70.73</td>\n",
       "    </tr>\n",
       "    <tr>\n",
       "      <th>2</th>\n",
       "      <td>Unit 0065 Box 5052\\nDPO AP 27450</td>\n",
       "      <td>94 vE</td>\n",
       "      <td>PM</td>\n",
       "      <td>Mozilla/5.0 (compatible; MSIE 9.0; Windows NT ...</td>\n",
       "      <td>Simpson, Williams and Pham</td>\n",
       "      <td>675957666125</td>\n",
       "      <td>08/19</td>\n",
       "      <td>699</td>\n",
       "      <td>JCB 16 digit</td>\n",
       "      <td>amymiller@morales-harrison.com</td>\n",
       "      <td>Customer service manager</td>\n",
       "      <td>132.207.160.22</td>\n",
       "      <td>de</td>\n",
       "      <td>0.95</td>\n",
       "    </tr>\n",
       "    <tr>\n",
       "      <th>3</th>\n",
       "      <td>7780 Julia Fords\\nNew Stacy, WA 45798</td>\n",
       "      <td>36 vm</td>\n",
       "      <td>PM</td>\n",
       "      <td>Mozilla/5.0 (Macintosh; Intel Mac OS X 10_8_0 ...</td>\n",
       "      <td>Williams, Marshall and Buchanan</td>\n",
       "      <td>6011578504430710</td>\n",
       "      <td>02/24</td>\n",
       "      <td>384</td>\n",
       "      <td>Discover</td>\n",
       "      <td>brent16@olson-robinson.info</td>\n",
       "      <td>Drilling engineer</td>\n",
       "      <td>30.250.74.19</td>\n",
       "      <td>es</td>\n",
       "      <td>78.04</td>\n",
       "    </tr>\n",
       "    <tr>\n",
       "      <th>4</th>\n",
       "      <td>23012 Munoz Drive Suite 337\\nNew Cynthia, TX 5...</td>\n",
       "      <td>20 IE</td>\n",
       "      <td>AM</td>\n",
       "      <td>Opera/9.58.(X11; Linux x86_64; it-IT) Presto/2...</td>\n",
       "      <td>Brown, Watson and Andrews</td>\n",
       "      <td>6011456623207998</td>\n",
       "      <td>10/25</td>\n",
       "      <td>678</td>\n",
       "      <td>Diners Club / Carte Blanche</td>\n",
       "      <td>christopherwright@gmail.com</td>\n",
       "      <td>Fine artist</td>\n",
       "      <td>24.140.33.94</td>\n",
       "      <td>es</td>\n",
       "      <td>77.82</td>\n",
       "    </tr>\n",
       "    <tr>\n",
       "      <th>...</th>\n",
       "      <td>...</td>\n",
       "      <td>...</td>\n",
       "      <td>...</td>\n",
       "      <td>...</td>\n",
       "      <td>...</td>\n",
       "      <td>...</td>\n",
       "      <td>...</td>\n",
       "      <td>...</td>\n",
       "      <td>...</td>\n",
       "      <td>...</td>\n",
       "      <td>...</td>\n",
       "      <td>...</td>\n",
       "      <td>...</td>\n",
       "      <td>...</td>\n",
       "    </tr>\n",
       "    <tr>\n",
       "      <th>9995</th>\n",
       "      <td>966 Castaneda Locks\\nWest Juliafurt, CO 96415</td>\n",
       "      <td>92 XI</td>\n",
       "      <td>PM</td>\n",
       "      <td>Mozilla/5.0 (Windows NT 5.1) AppleWebKit/5352 ...</td>\n",
       "      <td>Randall-Sloan</td>\n",
       "      <td>342945015358701</td>\n",
       "      <td>03/22</td>\n",
       "      <td>838</td>\n",
       "      <td>JCB 15 digit</td>\n",
       "      <td>iscott@wade-garner.com</td>\n",
       "      <td>Printmaker</td>\n",
       "      <td>29.73.197.114</td>\n",
       "      <td>it</td>\n",
       "      <td>82.21</td>\n",
       "    </tr>\n",
       "    <tr>\n",
       "      <th>9996</th>\n",
       "      <td>832 Curtis Dam Suite 785\\nNorth Edwardburgh, T...</td>\n",
       "      <td>41 JY</td>\n",
       "      <td>AM</td>\n",
       "      <td>Mozilla/5.0 (compatible; MSIE 9.0; Windows NT ...</td>\n",
       "      <td>Hale, Collins and Wilson</td>\n",
       "      <td>210033169205009</td>\n",
       "      <td>07/25</td>\n",
       "      <td>207</td>\n",
       "      <td>JCB 16 digit</td>\n",
       "      <td>mary85@hotmail.com</td>\n",
       "      <td>Energy engineer</td>\n",
       "      <td>121.133.168.51</td>\n",
       "      <td>pt</td>\n",
       "      <td>25.63</td>\n",
       "    </tr>\n",
       "    <tr>\n",
       "      <th>9997</th>\n",
       "      <td>Unit 4434 Box 6343\\nDPO AE 28026-0283</td>\n",
       "      <td>74 Zh</td>\n",
       "      <td>AM</td>\n",
       "      <td>Mozilla/5.0 (Macintosh; U; Intel Mac OS X 10_7...</td>\n",
       "      <td>Anderson Ltd</td>\n",
       "      <td>6011539787356311</td>\n",
       "      <td>05/21</td>\n",
       "      <td>1</td>\n",
       "      <td>VISA 16 digit</td>\n",
       "      <td>tyler16@gmail.com</td>\n",
       "      <td>Veterinary surgeon</td>\n",
       "      <td>156.210.0.254</td>\n",
       "      <td>el</td>\n",
       "      <td>83.98</td>\n",
       "    </tr>\n",
       "    <tr>\n",
       "      <th>9998</th>\n",
       "      <td>0096 English Rest\\nRoystad, IA 12457</td>\n",
       "      <td>74 cL</td>\n",
       "      <td>PM</td>\n",
       "      <td>Mozilla/5.0 (Macintosh; Intel Mac OS X 10_8_8;...</td>\n",
       "      <td>Cook Inc</td>\n",
       "      <td>180003348082930</td>\n",
       "      <td>11/17</td>\n",
       "      <td>987</td>\n",
       "      <td>American Express</td>\n",
       "      <td>elizabethmoore@reid.net</td>\n",
       "      <td>Local government officer</td>\n",
       "      <td>55.78.26.143</td>\n",
       "      <td>es</td>\n",
       "      <td>38.84</td>\n",
       "    </tr>\n",
       "    <tr>\n",
       "      <th>9999</th>\n",
       "      <td>40674 Barrett Stravenue\\nGrimesville, WI 79682</td>\n",
       "      <td>64 Hr</td>\n",
       "      <td>AM</td>\n",
       "      <td>Mozilla/5.0 (X11; Linux i686; rv:1.9.5.20) Gec...</td>\n",
       "      <td>Greene Inc</td>\n",
       "      <td>4139972901927273</td>\n",
       "      <td>02/19</td>\n",
       "      <td>302</td>\n",
       "      <td>JCB 15 digit</td>\n",
       "      <td>rachelford@vaughn.com</td>\n",
       "      <td>Embryologist, clinical</td>\n",
       "      <td>176.119.198.199</td>\n",
       "      <td>el</td>\n",
       "      <td>67.59</td>\n",
       "    </tr>\n",
       "  </tbody>\n",
       "</table>\n",
       "<p>10000 rows × 14 columns</p>\n",
       "</div>"
      ],
      "text/plain": [
       "                                                Address    Lot AM or PM  \\\n",
       "0     16629 Pace Camp Apt. 448\\nAlexisborough, NE 77...  46 in       PM   \n",
       "1     9374 Jasmine Spurs Suite 508\\nSouth John, TN 8...  28 rn       PM   \n",
       "2                      Unit 0065 Box 5052\\nDPO AP 27450  94 vE       PM   \n",
       "3                 7780 Julia Fords\\nNew Stacy, WA 45798  36 vm       PM   \n",
       "4     23012 Munoz Drive Suite 337\\nNew Cynthia, TX 5...  20 IE       AM   \n",
       "...                                                 ...    ...      ...   \n",
       "9995      966 Castaneda Locks\\nWest Juliafurt, CO 96415  92 XI       PM   \n",
       "9996  832 Curtis Dam Suite 785\\nNorth Edwardburgh, T...  41 JY       AM   \n",
       "9997              Unit 4434 Box 6343\\nDPO AE 28026-0283  74 Zh       AM   \n",
       "9998               0096 English Rest\\nRoystad, IA 12457  74 cL       PM   \n",
       "9999     40674 Barrett Stravenue\\nGrimesville, WI 79682  64 Hr       AM   \n",
       "\n",
       "                                           Browser Info  \\\n",
       "0     Opera/9.56.(X11; Linux x86_64; sl-SI) Presto/2...   \n",
       "1     Opera/8.93.(Windows 98; Win 9x 4.90; en-US) Pr...   \n",
       "2     Mozilla/5.0 (compatible; MSIE 9.0; Windows NT ...   \n",
       "3     Mozilla/5.0 (Macintosh; Intel Mac OS X 10_8_0 ...   \n",
       "4     Opera/9.58.(X11; Linux x86_64; it-IT) Presto/2...   \n",
       "...                                                 ...   \n",
       "9995  Mozilla/5.0 (Windows NT 5.1) AppleWebKit/5352 ...   \n",
       "9996  Mozilla/5.0 (compatible; MSIE 9.0; Windows NT ...   \n",
       "9997  Mozilla/5.0 (Macintosh; U; Intel Mac OS X 10_7...   \n",
       "9998  Mozilla/5.0 (Macintosh; Intel Mac OS X 10_8_8;...   \n",
       "9999  Mozilla/5.0 (X11; Linux i686; rv:1.9.5.20) Gec...   \n",
       "\n",
       "                              Company       Credit Card CC Exp Date  \\\n",
       "0                     Martinez-Herman  6011929061123406       02/20   \n",
       "1     Fletcher, Richards and Whitaker  3337758169645356       11/18   \n",
       "2          Simpson, Williams and Pham      675957666125       08/19   \n",
       "3     Williams, Marshall and Buchanan  6011578504430710       02/24   \n",
       "4           Brown, Watson and Andrews  6011456623207998       10/25   \n",
       "...                               ...               ...         ...   \n",
       "9995                    Randall-Sloan   342945015358701       03/22   \n",
       "9996         Hale, Collins and Wilson   210033169205009       07/25   \n",
       "9997                     Anderson Ltd  6011539787356311       05/21   \n",
       "9998                         Cook Inc   180003348082930       11/17   \n",
       "9999                       Greene Inc  4139972901927273       02/19   \n",
       "\n",
       "      CC Security Code                  CC Provider  \\\n",
       "0                  900                 JCB 16 digit   \n",
       "1                  561                   Mastercard   \n",
       "2                  699                 JCB 16 digit   \n",
       "3                  384                     Discover   \n",
       "4                  678  Diners Club / Carte Blanche   \n",
       "...                ...                          ...   \n",
       "9995               838                 JCB 15 digit   \n",
       "9996               207                 JCB 16 digit   \n",
       "9997                 1                VISA 16 digit   \n",
       "9998               987             American Express   \n",
       "9999               302                 JCB 15 digit   \n",
       "\n",
       "                               Email                                     Job  \\\n",
       "0                  pdunlap@yahoo.com  Scientist, product/process development   \n",
       "1                 anthony41@reed.com                       Drilling engineer   \n",
       "2     amymiller@morales-harrison.com                Customer service manager   \n",
       "3        brent16@olson-robinson.info                       Drilling engineer   \n",
       "4        christopherwright@gmail.com                             Fine artist   \n",
       "...                              ...                                     ...   \n",
       "9995          iscott@wade-garner.com                              Printmaker   \n",
       "9996              mary85@hotmail.com                         Energy engineer   \n",
       "9997               tyler16@gmail.com                      Veterinary surgeon   \n",
       "9998         elizabethmoore@reid.net                Local government officer   \n",
       "9999           rachelford@vaughn.com                  Embryologist, clinical   \n",
       "\n",
       "           IP Address Language  Purchase Price  \n",
       "0     149.146.147.205       el           98.14  \n",
       "1        15.160.41.51       fr           70.73  \n",
       "2      132.207.160.22       de            0.95  \n",
       "3        30.250.74.19       es           78.04  \n",
       "4        24.140.33.94       es           77.82  \n",
       "...               ...      ...             ...  \n",
       "9995    29.73.197.114       it           82.21  \n",
       "9996   121.133.168.51       pt           25.63  \n",
       "9997    156.210.0.254       el           83.98  \n",
       "9998     55.78.26.143       es           38.84  \n",
       "9999  176.119.198.199       el           67.59  \n",
       "\n",
       "[10000 rows x 14 columns]"
      ]
     },
     "execution_count": 2,
     "metadata": {},
     "output_type": "execute_result"
    }
   ],
   "source": [
    "df=pd.read_csv('EcomPur.csv')\n",
    "df"
   ]
  },
  {
   "cell_type": "markdown",
   "id": "9770b897-9d0d-4c23-99c1-9ca2137cdaec",
   "metadata": {},
   "source": [
    "# Display top 10 rows of the dataset"
   ]
  },
  {
   "cell_type": "code",
   "execution_count": 3,
   "id": "cbb5d130-b4d6-4c86-8be7-cdb790358653",
   "metadata": {},
   "outputs": [
    {
     "data": {
      "text/html": [
       "<div>\n",
       "<style scoped>\n",
       "    .dataframe tbody tr th:only-of-type {\n",
       "        vertical-align: middle;\n",
       "    }\n",
       "\n",
       "    .dataframe tbody tr th {\n",
       "        vertical-align: top;\n",
       "    }\n",
       "\n",
       "    .dataframe thead th {\n",
       "        text-align: right;\n",
       "    }\n",
       "</style>\n",
       "<table border=\"1\" class=\"dataframe\">\n",
       "  <thead>\n",
       "    <tr style=\"text-align: right;\">\n",
       "      <th></th>\n",
       "      <th>Address</th>\n",
       "      <th>Lot</th>\n",
       "      <th>AM or PM</th>\n",
       "      <th>Browser Info</th>\n",
       "      <th>Company</th>\n",
       "      <th>Credit Card</th>\n",
       "      <th>CC Exp Date</th>\n",
       "      <th>CC Security Code</th>\n",
       "      <th>CC Provider</th>\n",
       "      <th>Email</th>\n",
       "      <th>Job</th>\n",
       "      <th>IP Address</th>\n",
       "      <th>Language</th>\n",
       "      <th>Purchase Price</th>\n",
       "    </tr>\n",
       "  </thead>\n",
       "  <tbody>\n",
       "    <tr>\n",
       "      <th>0</th>\n",
       "      <td>16629 Pace Camp Apt. 448\\nAlexisborough, NE 77...</td>\n",
       "      <td>46 in</td>\n",
       "      <td>PM</td>\n",
       "      <td>Opera/9.56.(X11; Linux x86_64; sl-SI) Presto/2...</td>\n",
       "      <td>Martinez-Herman</td>\n",
       "      <td>6011929061123406</td>\n",
       "      <td>02/20</td>\n",
       "      <td>900</td>\n",
       "      <td>JCB 16 digit</td>\n",
       "      <td>pdunlap@yahoo.com</td>\n",
       "      <td>Scientist, product/process development</td>\n",
       "      <td>149.146.147.205</td>\n",
       "      <td>el</td>\n",
       "      <td>98.14</td>\n",
       "    </tr>\n",
       "    <tr>\n",
       "      <th>1</th>\n",
       "      <td>9374 Jasmine Spurs Suite 508\\nSouth John, TN 8...</td>\n",
       "      <td>28 rn</td>\n",
       "      <td>PM</td>\n",
       "      <td>Opera/8.93.(Windows 98; Win 9x 4.90; en-US) Pr...</td>\n",
       "      <td>Fletcher, Richards and Whitaker</td>\n",
       "      <td>3337758169645356</td>\n",
       "      <td>11/18</td>\n",
       "      <td>561</td>\n",
       "      <td>Mastercard</td>\n",
       "      <td>anthony41@reed.com</td>\n",
       "      <td>Drilling engineer</td>\n",
       "      <td>15.160.41.51</td>\n",
       "      <td>fr</td>\n",
       "      <td>70.73</td>\n",
       "    </tr>\n",
       "    <tr>\n",
       "      <th>2</th>\n",
       "      <td>Unit 0065 Box 5052\\nDPO AP 27450</td>\n",
       "      <td>94 vE</td>\n",
       "      <td>PM</td>\n",
       "      <td>Mozilla/5.0 (compatible; MSIE 9.0; Windows NT ...</td>\n",
       "      <td>Simpson, Williams and Pham</td>\n",
       "      <td>675957666125</td>\n",
       "      <td>08/19</td>\n",
       "      <td>699</td>\n",
       "      <td>JCB 16 digit</td>\n",
       "      <td>amymiller@morales-harrison.com</td>\n",
       "      <td>Customer service manager</td>\n",
       "      <td>132.207.160.22</td>\n",
       "      <td>de</td>\n",
       "      <td>0.95</td>\n",
       "    </tr>\n",
       "    <tr>\n",
       "      <th>3</th>\n",
       "      <td>7780 Julia Fords\\nNew Stacy, WA 45798</td>\n",
       "      <td>36 vm</td>\n",
       "      <td>PM</td>\n",
       "      <td>Mozilla/5.0 (Macintosh; Intel Mac OS X 10_8_0 ...</td>\n",
       "      <td>Williams, Marshall and Buchanan</td>\n",
       "      <td>6011578504430710</td>\n",
       "      <td>02/24</td>\n",
       "      <td>384</td>\n",
       "      <td>Discover</td>\n",
       "      <td>brent16@olson-robinson.info</td>\n",
       "      <td>Drilling engineer</td>\n",
       "      <td>30.250.74.19</td>\n",
       "      <td>es</td>\n",
       "      <td>78.04</td>\n",
       "    </tr>\n",
       "    <tr>\n",
       "      <th>4</th>\n",
       "      <td>23012 Munoz Drive Suite 337\\nNew Cynthia, TX 5...</td>\n",
       "      <td>20 IE</td>\n",
       "      <td>AM</td>\n",
       "      <td>Opera/9.58.(X11; Linux x86_64; it-IT) Presto/2...</td>\n",
       "      <td>Brown, Watson and Andrews</td>\n",
       "      <td>6011456623207998</td>\n",
       "      <td>10/25</td>\n",
       "      <td>678</td>\n",
       "      <td>Diners Club / Carte Blanche</td>\n",
       "      <td>christopherwright@gmail.com</td>\n",
       "      <td>Fine artist</td>\n",
       "      <td>24.140.33.94</td>\n",
       "      <td>es</td>\n",
       "      <td>77.82</td>\n",
       "    </tr>\n",
       "    <tr>\n",
       "      <th>5</th>\n",
       "      <td>7502 Powell Mission Apt. 768\\nTravisland, VA 3...</td>\n",
       "      <td>21 XT</td>\n",
       "      <td>PM</td>\n",
       "      <td>Mozilla/5.0 (Macintosh; U; PPC Mac OS X 10_8_5...</td>\n",
       "      <td>Silva-Anderson</td>\n",
       "      <td>30246185196287</td>\n",
       "      <td>07/25</td>\n",
       "      <td>7169</td>\n",
       "      <td>Discover</td>\n",
       "      <td>ynguyen@gmail.com</td>\n",
       "      <td>Fish farm manager</td>\n",
       "      <td>55.96.152.147</td>\n",
       "      <td>ru</td>\n",
       "      <td>25.15</td>\n",
       "    </tr>\n",
       "    <tr>\n",
       "      <th>6</th>\n",
       "      <td>93971 Conway Causeway\\nAndersonburgh, AZ 75107</td>\n",
       "      <td>96 Xt</td>\n",
       "      <td>AM</td>\n",
       "      <td>Mozilla/5.0 (compatible; MSIE 7.0; Windows NT ...</td>\n",
       "      <td>Gibson and Sons</td>\n",
       "      <td>6011398782655569</td>\n",
       "      <td>07/24</td>\n",
       "      <td>714</td>\n",
       "      <td>VISA 16 digit</td>\n",
       "      <td>olivia04@yahoo.com</td>\n",
       "      <td>Dancer</td>\n",
       "      <td>127.252.144.18</td>\n",
       "      <td>de</td>\n",
       "      <td>88.56</td>\n",
       "    </tr>\n",
       "    <tr>\n",
       "      <th>7</th>\n",
       "      <td>260 Rachel Plains Suite 366\\nCastroberg, WV 24...</td>\n",
       "      <td>96 pG</td>\n",
       "      <td>PM</td>\n",
       "      <td>Mozilla/5.0 (X11; Linux i686) AppleWebKit/5350...</td>\n",
       "      <td>Marshall-Collins</td>\n",
       "      <td>561252141909</td>\n",
       "      <td>06/25</td>\n",
       "      <td>256</td>\n",
       "      <td>VISA 13 digit</td>\n",
       "      <td>phillip48@parks.info</td>\n",
       "      <td>Event organiser</td>\n",
       "      <td>224.247.97.150</td>\n",
       "      <td>pt</td>\n",
       "      <td>44.25</td>\n",
       "    </tr>\n",
       "    <tr>\n",
       "      <th>8</th>\n",
       "      <td>2129 Dylan Burg\\nNew Michelle, ME 28650</td>\n",
       "      <td>45 JN</td>\n",
       "      <td>PM</td>\n",
       "      <td>Mozilla/5.0 (Macintosh; U; Intel Mac OS X 10_7...</td>\n",
       "      <td>Galloway and Sons</td>\n",
       "      <td>180041795790001</td>\n",
       "      <td>04/24</td>\n",
       "      <td>899</td>\n",
       "      <td>JCB 16 digit</td>\n",
       "      <td>kdavis@rasmussen.com</td>\n",
       "      <td>Financial manager</td>\n",
       "      <td>146.234.201.229</td>\n",
       "      <td>ru</td>\n",
       "      <td>59.54</td>\n",
       "    </tr>\n",
       "    <tr>\n",
       "      <th>9</th>\n",
       "      <td>3795 Dawson Extensions\\nLake Tinafort, ID 88739</td>\n",
       "      <td>15 Ug</td>\n",
       "      <td>AM</td>\n",
       "      <td>Mozilla/5.0 (X11; Linux i686; rv:1.9.7.20) Gec...</td>\n",
       "      <td>Rivera, Buchanan and Ramirez</td>\n",
       "      <td>4396283918371</td>\n",
       "      <td>01/17</td>\n",
       "      <td>931</td>\n",
       "      <td>American Express</td>\n",
       "      <td>qcoleman@hunt-huerta.com</td>\n",
       "      <td>Forensic scientist</td>\n",
       "      <td>236.198.199.8</td>\n",
       "      <td>zh</td>\n",
       "      <td>95.63</td>\n",
       "    </tr>\n",
       "  </tbody>\n",
       "</table>\n",
       "</div>"
      ],
      "text/plain": [
       "                                             Address    Lot AM or PM  \\\n",
       "0  16629 Pace Camp Apt. 448\\nAlexisborough, NE 77...  46 in       PM   \n",
       "1  9374 Jasmine Spurs Suite 508\\nSouth John, TN 8...  28 rn       PM   \n",
       "2                   Unit 0065 Box 5052\\nDPO AP 27450  94 vE       PM   \n",
       "3              7780 Julia Fords\\nNew Stacy, WA 45798  36 vm       PM   \n",
       "4  23012 Munoz Drive Suite 337\\nNew Cynthia, TX 5...  20 IE       AM   \n",
       "5  7502 Powell Mission Apt. 768\\nTravisland, VA 3...  21 XT       PM   \n",
       "6     93971 Conway Causeway\\nAndersonburgh, AZ 75107  96 Xt       AM   \n",
       "7  260 Rachel Plains Suite 366\\nCastroberg, WV 24...  96 pG       PM   \n",
       "8            2129 Dylan Burg\\nNew Michelle, ME 28650  45 JN       PM   \n",
       "9    3795 Dawson Extensions\\nLake Tinafort, ID 88739  15 Ug       AM   \n",
       "\n",
       "                                        Browser Info  \\\n",
       "0  Opera/9.56.(X11; Linux x86_64; sl-SI) Presto/2...   \n",
       "1  Opera/8.93.(Windows 98; Win 9x 4.90; en-US) Pr...   \n",
       "2  Mozilla/5.0 (compatible; MSIE 9.0; Windows NT ...   \n",
       "3  Mozilla/5.0 (Macintosh; Intel Mac OS X 10_8_0 ...   \n",
       "4  Opera/9.58.(X11; Linux x86_64; it-IT) Presto/2...   \n",
       "5  Mozilla/5.0 (Macintosh; U; PPC Mac OS X 10_8_5...   \n",
       "6  Mozilla/5.0 (compatible; MSIE 7.0; Windows NT ...   \n",
       "7  Mozilla/5.0 (X11; Linux i686) AppleWebKit/5350...   \n",
       "8  Mozilla/5.0 (Macintosh; U; Intel Mac OS X 10_7...   \n",
       "9  Mozilla/5.0 (X11; Linux i686; rv:1.9.7.20) Gec...   \n",
       "\n",
       "                           Company       Credit Card CC Exp Date  \\\n",
       "0                  Martinez-Herman  6011929061123406       02/20   \n",
       "1  Fletcher, Richards and Whitaker  3337758169645356       11/18   \n",
       "2       Simpson, Williams and Pham      675957666125       08/19   \n",
       "3  Williams, Marshall and Buchanan  6011578504430710       02/24   \n",
       "4        Brown, Watson and Andrews  6011456623207998       10/25   \n",
       "5                   Silva-Anderson    30246185196287       07/25   \n",
       "6                  Gibson and Sons  6011398782655569       07/24   \n",
       "7                 Marshall-Collins      561252141909       06/25   \n",
       "8                Galloway and Sons   180041795790001       04/24   \n",
       "9     Rivera, Buchanan and Ramirez     4396283918371       01/17   \n",
       "\n",
       "   CC Security Code                  CC Provider  \\\n",
       "0               900                 JCB 16 digit   \n",
       "1               561                   Mastercard   \n",
       "2               699                 JCB 16 digit   \n",
       "3               384                     Discover   \n",
       "4               678  Diners Club / Carte Blanche   \n",
       "5              7169                     Discover   \n",
       "6               714                VISA 16 digit   \n",
       "7               256                VISA 13 digit   \n",
       "8               899                 JCB 16 digit   \n",
       "9               931             American Express   \n",
       "\n",
       "                            Email                                     Job  \\\n",
       "0               pdunlap@yahoo.com  Scientist, product/process development   \n",
       "1              anthony41@reed.com                       Drilling engineer   \n",
       "2  amymiller@morales-harrison.com                Customer service manager   \n",
       "3     brent16@olson-robinson.info                       Drilling engineer   \n",
       "4     christopherwright@gmail.com                             Fine artist   \n",
       "5               ynguyen@gmail.com                       Fish farm manager   \n",
       "6              olivia04@yahoo.com                                  Dancer   \n",
       "7            phillip48@parks.info                         Event organiser   \n",
       "8            kdavis@rasmussen.com                       Financial manager   \n",
       "9        qcoleman@hunt-huerta.com                      Forensic scientist   \n",
       "\n",
       "        IP Address Language  Purchase Price  \n",
       "0  149.146.147.205       el           98.14  \n",
       "1     15.160.41.51       fr           70.73  \n",
       "2   132.207.160.22       de            0.95  \n",
       "3     30.250.74.19       es           78.04  \n",
       "4     24.140.33.94       es           77.82  \n",
       "5    55.96.152.147       ru           25.15  \n",
       "6   127.252.144.18       de           88.56  \n",
       "7   224.247.97.150       pt           44.25  \n",
       "8  146.234.201.229       ru           59.54  \n",
       "9    236.198.199.8       zh           95.63  "
      ]
     },
     "execution_count": 3,
     "metadata": {},
     "output_type": "execute_result"
    }
   ],
   "source": [
    "df.head(10)"
   ]
  },
  {
   "cell_type": "markdown",
   "id": "8dde7626-c0ad-49f2-a76a-8c9229ce9804",
   "metadata": {},
   "source": [
    "# Display last 10 rows of the dataset"
   ]
  },
  {
   "cell_type": "code",
   "execution_count": 4,
   "id": "c4635ba4-09ab-4695-88af-00b598c1dbec",
   "metadata": {},
   "outputs": [
    {
     "data": {
      "text/html": [
       "<div>\n",
       "<style scoped>\n",
       "    .dataframe tbody tr th:only-of-type {\n",
       "        vertical-align: middle;\n",
       "    }\n",
       "\n",
       "    .dataframe tbody tr th {\n",
       "        vertical-align: top;\n",
       "    }\n",
       "\n",
       "    .dataframe thead th {\n",
       "        text-align: right;\n",
       "    }\n",
       "</style>\n",
       "<table border=\"1\" class=\"dataframe\">\n",
       "  <thead>\n",
       "    <tr style=\"text-align: right;\">\n",
       "      <th></th>\n",
       "      <th>Address</th>\n",
       "      <th>Lot</th>\n",
       "      <th>AM or PM</th>\n",
       "      <th>Browser Info</th>\n",
       "      <th>Company</th>\n",
       "      <th>Credit Card</th>\n",
       "      <th>CC Exp Date</th>\n",
       "      <th>CC Security Code</th>\n",
       "      <th>CC Provider</th>\n",
       "      <th>Email</th>\n",
       "      <th>Job</th>\n",
       "      <th>IP Address</th>\n",
       "      <th>Language</th>\n",
       "      <th>Purchase Price</th>\n",
       "    </tr>\n",
       "  </thead>\n",
       "  <tbody>\n",
       "    <tr>\n",
       "      <th>9990</th>\n",
       "      <td>75731 Molly Springs\\nWest Danielle, VT 96934-5102</td>\n",
       "      <td>93 ty</td>\n",
       "      <td>PM</td>\n",
       "      <td>Mozilla/5.0 (Macintosh; Intel Mac OS X 10_7_4;...</td>\n",
       "      <td>Pace, Vazquez and Richards</td>\n",
       "      <td>869968197049750</td>\n",
       "      <td>04/24</td>\n",
       "      <td>877</td>\n",
       "      <td>JCB 15 digit</td>\n",
       "      <td>andersonmichael@sherman.biz</td>\n",
       "      <td>Early years teacher</td>\n",
       "      <td>54.170.3.185</td>\n",
       "      <td>ru</td>\n",
       "      <td>18.35</td>\n",
       "    </tr>\n",
       "    <tr>\n",
       "      <th>9991</th>\n",
       "      <td>PSC 8165, Box 8498\\nAPO AP 60327-0346</td>\n",
       "      <td>50 dA</td>\n",
       "      <td>AM</td>\n",
       "      <td>Mozilla/5.0 (compatible; MSIE 8.0; Windows NT ...</td>\n",
       "      <td>Snyder Inc</td>\n",
       "      <td>4221582137197481</td>\n",
       "      <td>02/24</td>\n",
       "      <td>969</td>\n",
       "      <td>Voyager</td>\n",
       "      <td>kking@wise-liu.com</td>\n",
       "      <td>IT sales professional</td>\n",
       "      <td>254.25.31.156</td>\n",
       "      <td>el</td>\n",
       "      <td>25.93</td>\n",
       "    </tr>\n",
       "    <tr>\n",
       "      <th>9992</th>\n",
       "      <td>885 Allen Mountains Apt. 230\\nWallhaven, LA 16995</td>\n",
       "      <td>40 vH</td>\n",
       "      <td>PM</td>\n",
       "      <td>Mozilla/5.0 (Macintosh; PPC Mac OS X 10_6_5) A...</td>\n",
       "      <td>Wells Ltd</td>\n",
       "      <td>4664825258997302</td>\n",
       "      <td>10/20</td>\n",
       "      <td>431</td>\n",
       "      <td>Discover</td>\n",
       "      <td>bberry@wright.net</td>\n",
       "      <td>Set designer</td>\n",
       "      <td>174.173.51.32</td>\n",
       "      <td>de</td>\n",
       "      <td>67.96</td>\n",
       "    </tr>\n",
       "    <tr>\n",
       "      <th>9993</th>\n",
       "      <td>7555 Larson Locks Suite 229\\nEllisburgh, MA 34...</td>\n",
       "      <td>72 jg</td>\n",
       "      <td>PM</td>\n",
       "      <td>Mozilla/5.0 (Macintosh; U; Intel Mac OS X 10_8...</td>\n",
       "      <td>Colon and Sons</td>\n",
       "      <td>30025560104631</td>\n",
       "      <td>10/25</td>\n",
       "      <td>629</td>\n",
       "      <td>Maestro</td>\n",
       "      <td>chelseawilliams@lopez.biz</td>\n",
       "      <td>Designer, exhibition/display</td>\n",
       "      <td>177.46.82.128</td>\n",
       "      <td>el</td>\n",
       "      <td>65.61</td>\n",
       "    </tr>\n",
       "    <tr>\n",
       "      <th>9994</th>\n",
       "      <td>6276 Rojas Hollow\\nLake Louis, WY 56410-7837</td>\n",
       "      <td>93 Ex</td>\n",
       "      <td>PM</td>\n",
       "      <td>Opera/9.68.(X11; Linux x86_64; sl-SI) Presto/2...</td>\n",
       "      <td>Ritter-Smith</td>\n",
       "      <td>3112186784121077</td>\n",
       "      <td>01/25</td>\n",
       "      <td>1823</td>\n",
       "      <td>Maestro</td>\n",
       "      <td>iroberts@gmail.com</td>\n",
       "      <td>Education officer, museum</td>\n",
       "      <td>242.44.112.18</td>\n",
       "      <td>zh</td>\n",
       "      <td>31.85</td>\n",
       "    </tr>\n",
       "    <tr>\n",
       "      <th>9995</th>\n",
       "      <td>966 Castaneda Locks\\nWest Juliafurt, CO 96415</td>\n",
       "      <td>92 XI</td>\n",
       "      <td>PM</td>\n",
       "      <td>Mozilla/5.0 (Windows NT 5.1) AppleWebKit/5352 ...</td>\n",
       "      <td>Randall-Sloan</td>\n",
       "      <td>342945015358701</td>\n",
       "      <td>03/22</td>\n",
       "      <td>838</td>\n",
       "      <td>JCB 15 digit</td>\n",
       "      <td>iscott@wade-garner.com</td>\n",
       "      <td>Printmaker</td>\n",
       "      <td>29.73.197.114</td>\n",
       "      <td>it</td>\n",
       "      <td>82.21</td>\n",
       "    </tr>\n",
       "    <tr>\n",
       "      <th>9996</th>\n",
       "      <td>832 Curtis Dam Suite 785\\nNorth Edwardburgh, T...</td>\n",
       "      <td>41 JY</td>\n",
       "      <td>AM</td>\n",
       "      <td>Mozilla/5.0 (compatible; MSIE 9.0; Windows NT ...</td>\n",
       "      <td>Hale, Collins and Wilson</td>\n",
       "      <td>210033169205009</td>\n",
       "      <td>07/25</td>\n",
       "      <td>207</td>\n",
       "      <td>JCB 16 digit</td>\n",
       "      <td>mary85@hotmail.com</td>\n",
       "      <td>Energy engineer</td>\n",
       "      <td>121.133.168.51</td>\n",
       "      <td>pt</td>\n",
       "      <td>25.63</td>\n",
       "    </tr>\n",
       "    <tr>\n",
       "      <th>9997</th>\n",
       "      <td>Unit 4434 Box 6343\\nDPO AE 28026-0283</td>\n",
       "      <td>74 Zh</td>\n",
       "      <td>AM</td>\n",
       "      <td>Mozilla/5.0 (Macintosh; U; Intel Mac OS X 10_7...</td>\n",
       "      <td>Anderson Ltd</td>\n",
       "      <td>6011539787356311</td>\n",
       "      <td>05/21</td>\n",
       "      <td>1</td>\n",
       "      <td>VISA 16 digit</td>\n",
       "      <td>tyler16@gmail.com</td>\n",
       "      <td>Veterinary surgeon</td>\n",
       "      <td>156.210.0.254</td>\n",
       "      <td>el</td>\n",
       "      <td>83.98</td>\n",
       "    </tr>\n",
       "    <tr>\n",
       "      <th>9998</th>\n",
       "      <td>0096 English Rest\\nRoystad, IA 12457</td>\n",
       "      <td>74 cL</td>\n",
       "      <td>PM</td>\n",
       "      <td>Mozilla/5.0 (Macintosh; Intel Mac OS X 10_8_8;...</td>\n",
       "      <td>Cook Inc</td>\n",
       "      <td>180003348082930</td>\n",
       "      <td>11/17</td>\n",
       "      <td>987</td>\n",
       "      <td>American Express</td>\n",
       "      <td>elizabethmoore@reid.net</td>\n",
       "      <td>Local government officer</td>\n",
       "      <td>55.78.26.143</td>\n",
       "      <td>es</td>\n",
       "      <td>38.84</td>\n",
       "    </tr>\n",
       "    <tr>\n",
       "      <th>9999</th>\n",
       "      <td>40674 Barrett Stravenue\\nGrimesville, WI 79682</td>\n",
       "      <td>64 Hr</td>\n",
       "      <td>AM</td>\n",
       "      <td>Mozilla/5.0 (X11; Linux i686; rv:1.9.5.20) Gec...</td>\n",
       "      <td>Greene Inc</td>\n",
       "      <td>4139972901927273</td>\n",
       "      <td>02/19</td>\n",
       "      <td>302</td>\n",
       "      <td>JCB 15 digit</td>\n",
       "      <td>rachelford@vaughn.com</td>\n",
       "      <td>Embryologist, clinical</td>\n",
       "      <td>176.119.198.199</td>\n",
       "      <td>el</td>\n",
       "      <td>67.59</td>\n",
       "    </tr>\n",
       "  </tbody>\n",
       "</table>\n",
       "</div>"
      ],
      "text/plain": [
       "                                                Address    Lot AM or PM  \\\n",
       "9990  75731 Molly Springs\\nWest Danielle, VT 96934-5102  93 ty       PM   \n",
       "9991              PSC 8165, Box 8498\\nAPO AP 60327-0346  50 dA       AM   \n",
       "9992  885 Allen Mountains Apt. 230\\nWallhaven, LA 16995  40 vH       PM   \n",
       "9993  7555 Larson Locks Suite 229\\nEllisburgh, MA 34...  72 jg       PM   \n",
       "9994       6276 Rojas Hollow\\nLake Louis, WY 56410-7837  93 Ex       PM   \n",
       "9995      966 Castaneda Locks\\nWest Juliafurt, CO 96415  92 XI       PM   \n",
       "9996  832 Curtis Dam Suite 785\\nNorth Edwardburgh, T...  41 JY       AM   \n",
       "9997              Unit 4434 Box 6343\\nDPO AE 28026-0283  74 Zh       AM   \n",
       "9998               0096 English Rest\\nRoystad, IA 12457  74 cL       PM   \n",
       "9999     40674 Barrett Stravenue\\nGrimesville, WI 79682  64 Hr       AM   \n",
       "\n",
       "                                           Browser Info  \\\n",
       "9990  Mozilla/5.0 (Macintosh; Intel Mac OS X 10_7_4;...   \n",
       "9991  Mozilla/5.0 (compatible; MSIE 8.0; Windows NT ...   \n",
       "9992  Mozilla/5.0 (Macintosh; PPC Mac OS X 10_6_5) A...   \n",
       "9993  Mozilla/5.0 (Macintosh; U; Intel Mac OS X 10_8...   \n",
       "9994  Opera/9.68.(X11; Linux x86_64; sl-SI) Presto/2...   \n",
       "9995  Mozilla/5.0 (Windows NT 5.1) AppleWebKit/5352 ...   \n",
       "9996  Mozilla/5.0 (compatible; MSIE 9.0; Windows NT ...   \n",
       "9997  Mozilla/5.0 (Macintosh; U; Intel Mac OS X 10_7...   \n",
       "9998  Mozilla/5.0 (Macintosh; Intel Mac OS X 10_8_8;...   \n",
       "9999  Mozilla/5.0 (X11; Linux i686; rv:1.9.5.20) Gec...   \n",
       "\n",
       "                         Company       Credit Card CC Exp Date  \\\n",
       "9990  Pace, Vazquez and Richards   869968197049750       04/24   \n",
       "9991                  Snyder Inc  4221582137197481       02/24   \n",
       "9992                   Wells Ltd  4664825258997302       10/20   \n",
       "9993              Colon and Sons    30025560104631       10/25   \n",
       "9994                Ritter-Smith  3112186784121077       01/25   \n",
       "9995               Randall-Sloan   342945015358701       03/22   \n",
       "9996    Hale, Collins and Wilson   210033169205009       07/25   \n",
       "9997                Anderson Ltd  6011539787356311       05/21   \n",
       "9998                    Cook Inc   180003348082930       11/17   \n",
       "9999                  Greene Inc  4139972901927273       02/19   \n",
       "\n",
       "      CC Security Code       CC Provider                        Email  \\\n",
       "9990               877      JCB 15 digit  andersonmichael@sherman.biz   \n",
       "9991               969           Voyager           kking@wise-liu.com   \n",
       "9992               431          Discover            bberry@wright.net   \n",
       "9993               629           Maestro    chelseawilliams@lopez.biz   \n",
       "9994              1823           Maestro           iroberts@gmail.com   \n",
       "9995               838      JCB 15 digit       iscott@wade-garner.com   \n",
       "9996               207      JCB 16 digit           mary85@hotmail.com   \n",
       "9997                 1     VISA 16 digit            tyler16@gmail.com   \n",
       "9998               987  American Express      elizabethmoore@reid.net   \n",
       "9999               302      JCB 15 digit        rachelford@vaughn.com   \n",
       "\n",
       "                               Job       IP Address Language  Purchase Price  \n",
       "9990           Early years teacher     54.170.3.185       ru           18.35  \n",
       "9991         IT sales professional    254.25.31.156       el           25.93  \n",
       "9992                  Set designer    174.173.51.32       de           67.96  \n",
       "9993  Designer, exhibition/display    177.46.82.128       el           65.61  \n",
       "9994     Education officer, museum    242.44.112.18       zh           31.85  \n",
       "9995                    Printmaker    29.73.197.114       it           82.21  \n",
       "9996               Energy engineer   121.133.168.51       pt           25.63  \n",
       "9997            Veterinary surgeon    156.210.0.254       el           83.98  \n",
       "9998      Local government officer     55.78.26.143       es           38.84  \n",
       "9999        Embryologist, clinical  176.119.198.199       el           67.59  "
      ]
     },
     "execution_count": 4,
     "metadata": {},
     "output_type": "execute_result"
    }
   ],
   "source": [
    "df.tail(10)"
   ]
  },
  {
   "cell_type": "markdown",
   "id": "ad133706-c7fd-41d9-b133-9a60f4ad812f",
   "metadata": {},
   "source": [
    "# Check datatype of each column"
   ]
  },
  {
   "cell_type": "code",
   "execution_count": 5,
   "id": "3e7a4c7f-fb32-4a94-b7b5-637bf10fae9d",
   "metadata": {},
   "outputs": [
    {
     "name": "stdout",
     "output_type": "stream",
     "text": [
      "<class 'pandas.core.frame.DataFrame'>\n",
      "RangeIndex: 10000 entries, 0 to 9999\n",
      "Data columns (total 14 columns):\n",
      " #   Column            Non-Null Count  Dtype  \n",
      "---  ------            --------------  -----  \n",
      " 0   Address           10000 non-null  object \n",
      " 1   Lot               10000 non-null  object \n",
      " 2   AM or PM          10000 non-null  object \n",
      " 3   Browser Info      10000 non-null  object \n",
      " 4   Company           10000 non-null  object \n",
      " 5   Credit Card       10000 non-null  int64  \n",
      " 6   CC Exp Date       10000 non-null  object \n",
      " 7   CC Security Code  10000 non-null  int64  \n",
      " 8   CC Provider       10000 non-null  object \n",
      " 9   Email             10000 non-null  object \n",
      " 10  Job               10000 non-null  object \n",
      " 11  IP Address        10000 non-null  object \n",
      " 12  Language          10000 non-null  object \n",
      " 13  Purchase Price    10000 non-null  float64\n",
      "dtypes: float64(1), int64(2), object(11)\n",
      "memory usage: 1.1+ MB\n"
     ]
    }
   ],
   "source": [
    "df.info()"
   ]
  },
  {
   "cell_type": "markdown",
   "id": "f2e2949e-e350-4794-b375-6551b447baaa",
   "metadata": {},
   "source": [
    "# Check null values in the dataset"
   ]
  },
  {
   "cell_type": "code",
   "execution_count": 6,
   "id": "b9a450eb-c113-4c18-9811-2c431cd6a459",
   "metadata": {},
   "outputs": [
    {
     "data": {
      "text/html": [
       "<div>\n",
       "<style scoped>\n",
       "    .dataframe tbody tr th:only-of-type {\n",
       "        vertical-align: middle;\n",
       "    }\n",
       "\n",
       "    .dataframe tbody tr th {\n",
       "        vertical-align: top;\n",
       "    }\n",
       "\n",
       "    .dataframe thead th {\n",
       "        text-align: right;\n",
       "    }\n",
       "</style>\n",
       "<table border=\"1\" class=\"dataframe\">\n",
       "  <thead>\n",
       "    <tr style=\"text-align: right;\">\n",
       "      <th></th>\n",
       "      <th>Address</th>\n",
       "      <th>Lot</th>\n",
       "      <th>AM or PM</th>\n",
       "      <th>Browser Info</th>\n",
       "      <th>Company</th>\n",
       "      <th>Credit Card</th>\n",
       "      <th>CC Exp Date</th>\n",
       "      <th>CC Security Code</th>\n",
       "      <th>CC Provider</th>\n",
       "      <th>Email</th>\n",
       "      <th>Job</th>\n",
       "      <th>IP Address</th>\n",
       "      <th>Language</th>\n",
       "      <th>Purchase Price</th>\n",
       "    </tr>\n",
       "  </thead>\n",
       "  <tbody>\n",
       "    <tr>\n",
       "      <th>0</th>\n",
       "      <td>False</td>\n",
       "      <td>False</td>\n",
       "      <td>False</td>\n",
       "      <td>False</td>\n",
       "      <td>False</td>\n",
       "      <td>False</td>\n",
       "      <td>False</td>\n",
       "      <td>False</td>\n",
       "      <td>False</td>\n",
       "      <td>False</td>\n",
       "      <td>False</td>\n",
       "      <td>False</td>\n",
       "      <td>False</td>\n",
       "      <td>False</td>\n",
       "    </tr>\n",
       "    <tr>\n",
       "      <th>1</th>\n",
       "      <td>False</td>\n",
       "      <td>False</td>\n",
       "      <td>False</td>\n",
       "      <td>False</td>\n",
       "      <td>False</td>\n",
       "      <td>False</td>\n",
       "      <td>False</td>\n",
       "      <td>False</td>\n",
       "      <td>False</td>\n",
       "      <td>False</td>\n",
       "      <td>False</td>\n",
       "      <td>False</td>\n",
       "      <td>False</td>\n",
       "      <td>False</td>\n",
       "    </tr>\n",
       "    <tr>\n",
       "      <th>2</th>\n",
       "      <td>False</td>\n",
       "      <td>False</td>\n",
       "      <td>False</td>\n",
       "      <td>False</td>\n",
       "      <td>False</td>\n",
       "      <td>False</td>\n",
       "      <td>False</td>\n",
       "      <td>False</td>\n",
       "      <td>False</td>\n",
       "      <td>False</td>\n",
       "      <td>False</td>\n",
       "      <td>False</td>\n",
       "      <td>False</td>\n",
       "      <td>False</td>\n",
       "    </tr>\n",
       "    <tr>\n",
       "      <th>3</th>\n",
       "      <td>False</td>\n",
       "      <td>False</td>\n",
       "      <td>False</td>\n",
       "      <td>False</td>\n",
       "      <td>False</td>\n",
       "      <td>False</td>\n",
       "      <td>False</td>\n",
       "      <td>False</td>\n",
       "      <td>False</td>\n",
       "      <td>False</td>\n",
       "      <td>False</td>\n",
       "      <td>False</td>\n",
       "      <td>False</td>\n",
       "      <td>False</td>\n",
       "    </tr>\n",
       "    <tr>\n",
       "      <th>4</th>\n",
       "      <td>False</td>\n",
       "      <td>False</td>\n",
       "      <td>False</td>\n",
       "      <td>False</td>\n",
       "      <td>False</td>\n",
       "      <td>False</td>\n",
       "      <td>False</td>\n",
       "      <td>False</td>\n",
       "      <td>False</td>\n",
       "      <td>False</td>\n",
       "      <td>False</td>\n",
       "      <td>False</td>\n",
       "      <td>False</td>\n",
       "      <td>False</td>\n",
       "    </tr>\n",
       "    <tr>\n",
       "      <th>...</th>\n",
       "      <td>...</td>\n",
       "      <td>...</td>\n",
       "      <td>...</td>\n",
       "      <td>...</td>\n",
       "      <td>...</td>\n",
       "      <td>...</td>\n",
       "      <td>...</td>\n",
       "      <td>...</td>\n",
       "      <td>...</td>\n",
       "      <td>...</td>\n",
       "      <td>...</td>\n",
       "      <td>...</td>\n",
       "      <td>...</td>\n",
       "      <td>...</td>\n",
       "    </tr>\n",
       "    <tr>\n",
       "      <th>9995</th>\n",
       "      <td>False</td>\n",
       "      <td>False</td>\n",
       "      <td>False</td>\n",
       "      <td>False</td>\n",
       "      <td>False</td>\n",
       "      <td>False</td>\n",
       "      <td>False</td>\n",
       "      <td>False</td>\n",
       "      <td>False</td>\n",
       "      <td>False</td>\n",
       "      <td>False</td>\n",
       "      <td>False</td>\n",
       "      <td>False</td>\n",
       "      <td>False</td>\n",
       "    </tr>\n",
       "    <tr>\n",
       "      <th>9996</th>\n",
       "      <td>False</td>\n",
       "      <td>False</td>\n",
       "      <td>False</td>\n",
       "      <td>False</td>\n",
       "      <td>False</td>\n",
       "      <td>False</td>\n",
       "      <td>False</td>\n",
       "      <td>False</td>\n",
       "      <td>False</td>\n",
       "      <td>False</td>\n",
       "      <td>False</td>\n",
       "      <td>False</td>\n",
       "      <td>False</td>\n",
       "      <td>False</td>\n",
       "    </tr>\n",
       "    <tr>\n",
       "      <th>9997</th>\n",
       "      <td>False</td>\n",
       "      <td>False</td>\n",
       "      <td>False</td>\n",
       "      <td>False</td>\n",
       "      <td>False</td>\n",
       "      <td>False</td>\n",
       "      <td>False</td>\n",
       "      <td>False</td>\n",
       "      <td>False</td>\n",
       "      <td>False</td>\n",
       "      <td>False</td>\n",
       "      <td>False</td>\n",
       "      <td>False</td>\n",
       "      <td>False</td>\n",
       "    </tr>\n",
       "    <tr>\n",
       "      <th>9998</th>\n",
       "      <td>False</td>\n",
       "      <td>False</td>\n",
       "      <td>False</td>\n",
       "      <td>False</td>\n",
       "      <td>False</td>\n",
       "      <td>False</td>\n",
       "      <td>False</td>\n",
       "      <td>False</td>\n",
       "      <td>False</td>\n",
       "      <td>False</td>\n",
       "      <td>False</td>\n",
       "      <td>False</td>\n",
       "      <td>False</td>\n",
       "      <td>False</td>\n",
       "    </tr>\n",
       "    <tr>\n",
       "      <th>9999</th>\n",
       "      <td>False</td>\n",
       "      <td>False</td>\n",
       "      <td>False</td>\n",
       "      <td>False</td>\n",
       "      <td>False</td>\n",
       "      <td>False</td>\n",
       "      <td>False</td>\n",
       "      <td>False</td>\n",
       "      <td>False</td>\n",
       "      <td>False</td>\n",
       "      <td>False</td>\n",
       "      <td>False</td>\n",
       "      <td>False</td>\n",
       "      <td>False</td>\n",
       "    </tr>\n",
       "  </tbody>\n",
       "</table>\n",
       "<p>10000 rows × 14 columns</p>\n",
       "</div>"
      ],
      "text/plain": [
       "      Address    Lot  AM or PM  Browser Info  Company  Credit Card  \\\n",
       "0       False  False     False         False    False        False   \n",
       "1       False  False     False         False    False        False   \n",
       "2       False  False     False         False    False        False   \n",
       "3       False  False     False         False    False        False   \n",
       "4       False  False     False         False    False        False   \n",
       "...       ...    ...       ...           ...      ...          ...   \n",
       "9995    False  False     False         False    False        False   \n",
       "9996    False  False     False         False    False        False   \n",
       "9997    False  False     False         False    False        False   \n",
       "9998    False  False     False         False    False        False   \n",
       "9999    False  False     False         False    False        False   \n",
       "\n",
       "      CC Exp Date  CC Security Code  CC Provider  Email    Job  IP Address  \\\n",
       "0           False             False        False  False  False       False   \n",
       "1           False             False        False  False  False       False   \n",
       "2           False             False        False  False  False       False   \n",
       "3           False             False        False  False  False       False   \n",
       "4           False             False        False  False  False       False   \n",
       "...           ...               ...          ...    ...    ...         ...   \n",
       "9995        False             False        False  False  False       False   \n",
       "9996        False             False        False  False  False       False   \n",
       "9997        False             False        False  False  False       False   \n",
       "9998        False             False        False  False  False       False   \n",
       "9999        False             False        False  False  False       False   \n",
       "\n",
       "      Language  Purchase Price  \n",
       "0        False           False  \n",
       "1        False           False  \n",
       "2        False           False  \n",
       "3        False           False  \n",
       "4        False           False  \n",
       "...        ...             ...  \n",
       "9995     False           False  \n",
       "9996     False           False  \n",
       "9997     False           False  \n",
       "9998     False           False  \n",
       "9999     False           False  \n",
       "\n",
       "[10000 rows x 14 columns]"
      ]
     },
     "execution_count": 6,
     "metadata": {},
     "output_type": "execute_result"
    }
   ],
   "source": [
    "df.isnull()"
   ]
  },
  {
   "cell_type": "code",
   "execution_count": 7,
   "id": "ed2c48a4-f695-438a-bdb8-f23165bd4ad4",
   "metadata": {},
   "outputs": [
    {
     "data": {
      "text/plain": [
       "Address             0\n",
       "Lot                 0\n",
       "AM or PM            0\n",
       "Browser Info        0\n",
       "Company             0\n",
       "Credit Card         0\n",
       "CC Exp Date         0\n",
       "CC Security Code    0\n",
       "CC Provider         0\n",
       "Email               0\n",
       "Job                 0\n",
       "IP Address          0\n",
       "Language            0\n",
       "Purchase Price      0\n",
       "dtype: int64"
      ]
     },
     "execution_count": 7,
     "metadata": {},
     "output_type": "execute_result"
    }
   ],
   "source": [
    "df.isna().sum()"
   ]
  },
  {
   "cell_type": "markdown",
   "id": "2a0e7a5d-809d-4400-a03c-aea6233a7794",
   "metadata": {},
   "source": [
    "# How many rows and columns are there in the dataset"
   ]
  },
  {
   "cell_type": "code",
   "execution_count": 8,
   "id": "76f25e95-5b15-47ce-a998-96016008b930",
   "metadata": {},
   "outputs": [
    {
     "data": {
      "text/plain": [
       "(10000, 14)"
      ]
     },
     "execution_count": 8,
     "metadata": {},
     "output_type": "execute_result"
    }
   ],
   "source": [
    "df.shape"
   ]
  },
  {
   "cell_type": "code",
   "execution_count": 9,
   "id": "73240336-6448-40d5-bcc3-c85c420ada0e",
   "metadata": {},
   "outputs": [
    {
     "name": "stdout",
     "output_type": "stream",
     "text": [
      "Number of rows: 10000\n"
     ]
    }
   ],
   "source": [
    "print(\"Number of rows:\",df.shape[0])"
   ]
  },
  {
   "cell_type": "code",
   "execution_count": 10,
   "id": "02d20120-6bcf-4333-8e0e-c495ffad71f2",
   "metadata": {},
   "outputs": [
    {
     "name": "stdout",
     "output_type": "stream",
     "text": [
      "Number of columns: 14\n"
     ]
    }
   ],
   "source": [
    "print(\"Number of columns:\",df.shape[1])"
   ]
  },
  {
   "cell_type": "markdown",
   "id": "385772f1-d844-4059-b8a8-c70385eebe93",
   "metadata": {},
   "source": [
    "# Highest and Lowest Purchase Prices\n",
    "- Step 1:Retrieve all the column names"
   ]
  },
  {
   "cell_type": "code",
   "execution_count": 11,
   "id": "6a099355-5a48-4e1b-ae8e-d2fe5bcee383",
   "metadata": {},
   "outputs": [
    {
     "data": {
      "text/plain": [
       "Index(['Address', 'Lot', 'AM or PM', 'Browser Info', 'Company', 'Credit Card',\n",
       "       'CC Exp Date', 'CC Security Code', 'CC Provider', 'Email', 'Job',\n",
       "       'IP Address', 'Language', 'Purchase Price'],\n",
       "      dtype='object')"
      ]
     },
     "execution_count": 11,
     "metadata": {},
     "output_type": "execute_result"
    }
   ],
   "source": [
    "df.columns"
   ]
  },
  {
   "cell_type": "markdown",
   "id": "6022c540-065f-42fa-8c65-bbabebe1d4b6",
   "metadata": {},
   "source": [
    "- Step2:Retrieve the purchase price column"
   ]
  },
  {
   "cell_type": "code",
   "execution_count": 12,
   "id": "dc9e64ae-5aae-4927-b7de-6b7b8448ec3f",
   "metadata": {},
   "outputs": [
    {
     "data": {
      "text/plain": [
       "0       98.14\n",
       "1       70.73\n",
       "2        0.95\n",
       "3       78.04\n",
       "4       77.82\n",
       "        ...  \n",
       "9995    82.21\n",
       "9996    25.63\n",
       "9997    83.98\n",
       "9998    38.84\n",
       "9999    67.59\n",
       "Name: Purchase Price, Length: 10000, dtype: float64"
      ]
     },
     "execution_count": 12,
     "metadata": {},
     "output_type": "execute_result"
    }
   ],
   "source": [
    "df['Purchase Price']"
   ]
  },
  {
   "cell_type": "markdown",
   "id": "2c8fc3bf-18f9-4591-925f-91c90ffa7da7",
   "metadata": {},
   "source": [
    "- Step 3:Finding the max value of purchase price column"
   ]
  },
  {
   "cell_type": "code",
   "execution_count": 13,
   "id": "8b783229-d2f2-4f9a-a98c-66f82426b1dd",
   "metadata": {},
   "outputs": [
    {
     "name": "stdout",
     "output_type": "stream",
     "text": [
      "The Maximum value of purchase price column is: 99.99\n"
     ]
    }
   ],
   "source": [
    "print(\"The Maximum value of purchase price column is:\",df['Purchase Price'].max())"
   ]
  },
  {
   "cell_type": "markdown",
   "id": "38de6793-7aa8-4085-828e-a295e1180341",
   "metadata": {},
   "source": [
    "- Step 4:Finding the min value of purchase price column"
   ]
  },
  {
   "cell_type": "code",
   "execution_count": 14,
   "id": "b278525b-a85d-4bc5-942e-01eaec0fc8e1",
   "metadata": {},
   "outputs": [
    {
     "name": "stdout",
     "output_type": "stream",
     "text": [
      "The Minimum value of purchase price column is: 0.0\n"
     ]
    }
   ],
   "source": [
    "print(\"The Minimum value of purchase price column is:\",df['Purchase Price'].min())"
   ]
  },
  {
   "cell_type": "markdown",
   "id": "b539dd17-9ca7-4f42-8199-fb1b6012b4e5",
   "metadata": {},
   "source": [
    "# Average Purchase Price"
   ]
  },
  {
   "cell_type": "code",
   "execution_count": 15,
   "id": "68a56e88-a629-4fc5-a7b7-588b8c828bb5",
   "metadata": {},
   "outputs": [
    {
     "name": "stdout",
     "output_type": "stream",
     "text": [
      "The average purchase price is: 50.347302\n"
     ]
    }
   ],
   "source": [
    "print(\"The average purchase price is:\",df['Purchase Price'].mean())"
   ]
  },
  {
   "cell_type": "markdown",
   "id": "e83a0408-b8c3-41c0-bf5d-1d134cdc33e5",
   "metadata": {},
   "source": [
    "# How many people have French('fr') as their language\n",
    "- Step 1:Retrieve all the column names"
   ]
  },
  {
   "cell_type": "code",
   "execution_count": 16,
   "id": "76bdb9b0-139a-4fd7-8185-1daf402194aa",
   "metadata": {},
   "outputs": [
    {
     "data": {
      "text/plain": [
       "Index(['Address', 'Lot', 'AM or PM', 'Browser Info', 'Company', 'Credit Card',\n",
       "       'CC Exp Date', 'CC Security Code', 'CC Provider', 'Email', 'Job',\n",
       "       'IP Address', 'Language', 'Purchase Price'],\n",
       "      dtype='object')"
      ]
     },
     "execution_count": 16,
     "metadata": {},
     "output_type": "execute_result"
    }
   ],
   "source": [
    "df.columns"
   ]
  },
  {
   "cell_type": "markdown",
   "id": "aa67e5e9-7f7b-4393-acd8-2dc9cd280ab2",
   "metadata": {},
   "source": [
    "- Step 2:Retrieve the language column"
   ]
  },
  {
   "cell_type": "code",
   "execution_count": 17,
   "id": "de0f1960-d45d-463e-9771-fef21f3889ac",
   "metadata": {},
   "outputs": [
    {
     "data": {
      "text/plain": [
       "0       el\n",
       "1       fr\n",
       "2       de\n",
       "3       es\n",
       "4       es\n",
       "        ..\n",
       "9995    it\n",
       "9996    pt\n",
       "9997    el\n",
       "9998    es\n",
       "9999    el\n",
       "Name: Language, Length: 10000, dtype: object"
      ]
     },
     "execution_count": 17,
     "metadata": {},
     "output_type": "execute_result"
    }
   ],
   "source": [
    "df['Language']"
   ]
  },
  {
   "cell_type": "markdown",
   "id": "96b7ec95-9564-4e86-9d2c-1c508b3665c5",
   "metadata": {},
   "source": [
    "- Step 3:Finding which column contains 'fr'"
   ]
  },
  {
   "cell_type": "code",
   "execution_count": 18,
   "id": "7bb3d0cc-34d3-4d98-8d4c-458c99904c62",
   "metadata": {},
   "outputs": [
    {
     "data": {
      "text/plain": [
       "0       False\n",
       "1        True\n",
       "2       False\n",
       "3       False\n",
       "4       False\n",
       "        ...  \n",
       "9995    False\n",
       "9996    False\n",
       "9997    False\n",
       "9998    False\n",
       "9999    False\n",
       "Name: Language, Length: 10000, dtype: bool"
      ]
     },
     "execution_count": 18,
     "metadata": {},
     "output_type": "execute_result"
    }
   ],
   "source": [
    "df['Language']=='fr'"
   ]
  },
  {
   "cell_type": "markdown",
   "id": "d20b5ac9-3f59-4f4a-a8ae-77e9d047d19f",
   "metadata": {},
   "source": [
    "- Step 4:Pass the boolean data to the data frame to retrieve the related row data "
   ]
  },
  {
   "cell_type": "code",
   "execution_count": 19,
   "id": "cd2f25ae-1fb0-42a6-8a74-7f6be470d3db",
   "metadata": {},
   "outputs": [
    {
     "data": {
      "text/html": [
       "<div>\n",
       "<style scoped>\n",
       "    .dataframe tbody tr th:only-of-type {\n",
       "        vertical-align: middle;\n",
       "    }\n",
       "\n",
       "    .dataframe tbody tr th {\n",
       "        vertical-align: top;\n",
       "    }\n",
       "\n",
       "    .dataframe thead th {\n",
       "        text-align: right;\n",
       "    }\n",
       "</style>\n",
       "<table border=\"1\" class=\"dataframe\">\n",
       "  <thead>\n",
       "    <tr style=\"text-align: right;\">\n",
       "      <th></th>\n",
       "      <th>Address</th>\n",
       "      <th>Lot</th>\n",
       "      <th>AM or PM</th>\n",
       "      <th>Browser Info</th>\n",
       "      <th>Company</th>\n",
       "      <th>Credit Card</th>\n",
       "      <th>CC Exp Date</th>\n",
       "      <th>CC Security Code</th>\n",
       "      <th>CC Provider</th>\n",
       "      <th>Email</th>\n",
       "      <th>Job</th>\n",
       "      <th>IP Address</th>\n",
       "      <th>Language</th>\n",
       "      <th>Purchase Price</th>\n",
       "    </tr>\n",
       "  </thead>\n",
       "  <tbody>\n",
       "    <tr>\n",
       "      <th>1</th>\n",
       "      <td>9374 Jasmine Spurs Suite 508\\nSouth John, TN 8...</td>\n",
       "      <td>28 rn</td>\n",
       "      <td>PM</td>\n",
       "      <td>Opera/8.93.(Windows 98; Win 9x 4.90; en-US) Pr...</td>\n",
       "      <td>Fletcher, Richards and Whitaker</td>\n",
       "      <td>3337758169645356</td>\n",
       "      <td>11/18</td>\n",
       "      <td>561</td>\n",
       "      <td>Mastercard</td>\n",
       "      <td>anthony41@reed.com</td>\n",
       "      <td>Drilling engineer</td>\n",
       "      <td>15.160.41.51</td>\n",
       "      <td>fr</td>\n",
       "      <td>70.73</td>\n",
       "    </tr>\n",
       "    <tr>\n",
       "      <th>19</th>\n",
       "      <td>125 Hall Summit\\nBoothton, IL 41721</td>\n",
       "      <td>99 CU</td>\n",
       "      <td>PM</td>\n",
       "      <td>Mozilla/5.0 (compatible; MSIE 7.0; Windows NT ...</td>\n",
       "      <td>Turner-Mckinney</td>\n",
       "      <td>676343504830</td>\n",
       "      <td>02/20</td>\n",
       "      <td>440</td>\n",
       "      <td>VISA 16 digit</td>\n",
       "      <td>ruiznicole@gmail.com</td>\n",
       "      <td>Designer, interior/spatial</td>\n",
       "      <td>25.105.209.214</td>\n",
       "      <td>fr</td>\n",
       "      <td>58.39</td>\n",
       "    </tr>\n",
       "    <tr>\n",
       "      <th>53</th>\n",
       "      <td>PSC 9431, Box 7059\\nAPO AA 29285-1363</td>\n",
       "      <td>14 qD</td>\n",
       "      <td>AM</td>\n",
       "      <td>Opera/9.34.(X11; Linux x86_64; it-IT) Presto/2...</td>\n",
       "      <td>Higgins, Cardenas and Kennedy</td>\n",
       "      <td>869972604798355</td>\n",
       "      <td>08/17</td>\n",
       "      <td>157</td>\n",
       "      <td>JCB 16 digit</td>\n",
       "      <td>amorales@yahoo.com</td>\n",
       "      <td>Technical author</td>\n",
       "      <td>44.108.117.122</td>\n",
       "      <td>fr</td>\n",
       "      <td>10.41</td>\n",
       "    </tr>\n",
       "    <tr>\n",
       "      <th>76</th>\n",
       "      <td>49206 Campbell Port\\nNorth Cliffordshire, HI 3...</td>\n",
       "      <td>71 iu</td>\n",
       "      <td>PM</td>\n",
       "      <td>Mozilla/5.0 (Macintosh; U; PPC Mac OS X 10_5_9...</td>\n",
       "      <td>Jacobs-Tucker</td>\n",
       "      <td>6011343518820988</td>\n",
       "      <td>01/17</td>\n",
       "      <td>806</td>\n",
       "      <td>Voyager</td>\n",
       "      <td>eperez@hotmail.com</td>\n",
       "      <td>Paramedic</td>\n",
       "      <td>210.207.58.168</td>\n",
       "      <td>fr</td>\n",
       "      <td>57.34</td>\n",
       "    </tr>\n",
       "    <tr>\n",
       "      <th>82</th>\n",
       "      <td>493 Smith Valleys Suite 004\\nNew Madelineville...</td>\n",
       "      <td>35 ls</td>\n",
       "      <td>PM</td>\n",
       "      <td>Mozilla/5.0 (iPod; U; CPU iPhone OS 4_0 like M...</td>\n",
       "      <td>Robinson, Johnston and Valdez</td>\n",
       "      <td>4351359627548412</td>\n",
       "      <td>06/17</td>\n",
       "      <td>937</td>\n",
       "      <td>VISA 13 digit</td>\n",
       "      <td>amendez@yahoo.com</td>\n",
       "      <td>Engineer, materials</td>\n",
       "      <td>163.129.163.100</td>\n",
       "      <td>fr</td>\n",
       "      <td>49.04</td>\n",
       "    </tr>\n",
       "    <tr>\n",
       "      <th>...</th>\n",
       "      <td>...</td>\n",
       "      <td>...</td>\n",
       "      <td>...</td>\n",
       "      <td>...</td>\n",
       "      <td>...</td>\n",
       "      <td>...</td>\n",
       "      <td>...</td>\n",
       "      <td>...</td>\n",
       "      <td>...</td>\n",
       "      <td>...</td>\n",
       "      <td>...</td>\n",
       "      <td>...</td>\n",
       "      <td>...</td>\n",
       "      <td>...</td>\n",
       "    </tr>\n",
       "    <tr>\n",
       "      <th>9941</th>\n",
       "      <td>43757 Brown Lodge\\nValerieberg, PR 88518</td>\n",
       "      <td>68 DG</td>\n",
       "      <td>AM</td>\n",
       "      <td>Mozilla/5.0 (compatible; MSIE 5.0; Windows NT ...</td>\n",
       "      <td>Jones, Williams and Dunn</td>\n",
       "      <td>6011508474487291</td>\n",
       "      <td>04/26</td>\n",
       "      <td>906</td>\n",
       "      <td>Mastercard</td>\n",
       "      <td>christian55@gmail.com</td>\n",
       "      <td>Secondary school teacher</td>\n",
       "      <td>216.118.235.145</td>\n",
       "      <td>fr</td>\n",
       "      <td>60.03</td>\n",
       "    </tr>\n",
       "    <tr>\n",
       "      <th>9947</th>\n",
       "      <td>32827 Carl Inlet\\nSouth Nicole, NY 38081-6636</td>\n",
       "      <td>40 Dp</td>\n",
       "      <td>PM</td>\n",
       "      <td>Mozilla/5.0 (Windows; U; Windows 95) AppleWebK...</td>\n",
       "      <td>Pruitt-Flores</td>\n",
       "      <td>3158564208754951</td>\n",
       "      <td>03/17</td>\n",
       "      <td>386</td>\n",
       "      <td>Mastercard</td>\n",
       "      <td>josephsmith@gmail.com</td>\n",
       "      <td>Textile designer</td>\n",
       "      <td>198.68.38.23</td>\n",
       "      <td>fr</td>\n",
       "      <td>49.61</td>\n",
       "    </tr>\n",
       "    <tr>\n",
       "      <th>9951</th>\n",
       "      <td>518 Brown Dam\\nGarciaside, IN 33057</td>\n",
       "      <td>71 wq</td>\n",
       "      <td>AM</td>\n",
       "      <td>Mozilla/5.0 (compatible; MSIE 8.0; Windows NT ...</td>\n",
       "      <td>Crosby, Vasquez and Ballard</td>\n",
       "      <td>5256758441931287</td>\n",
       "      <td>12/17</td>\n",
       "      <td>146</td>\n",
       "      <td>VISA 16 digit</td>\n",
       "      <td>cjennings@yahoo.com</td>\n",
       "      <td>Lighting technician, broadcasting/film/video</td>\n",
       "      <td>58.12.83.1</td>\n",
       "      <td>fr</td>\n",
       "      <td>57.59</td>\n",
       "    </tr>\n",
       "    <tr>\n",
       "      <th>9977</th>\n",
       "      <td>02182 Keith Expressway\\nEast Shannon, CT 20578...</td>\n",
       "      <td>34 RL</td>\n",
       "      <td>AM</td>\n",
       "      <td>Mozilla/5.0 (compatible; MSIE 9.0; Windows NT ...</td>\n",
       "      <td>Deleon, Jacobson and Benton</td>\n",
       "      <td>4186094003664688</td>\n",
       "      <td>06/21</td>\n",
       "      <td>397</td>\n",
       "      <td>JCB 16 digit</td>\n",
       "      <td>daltoncarter@yahoo.com</td>\n",
       "      <td>Biomedical engineer</td>\n",
       "      <td>146.238.118.2</td>\n",
       "      <td>fr</td>\n",
       "      <td>94.93</td>\n",
       "    </tr>\n",
       "    <tr>\n",
       "      <th>9980</th>\n",
       "      <td>6061 Dave Lights\\nPhillipsview, UT 40500</td>\n",
       "      <td>25 Mv</td>\n",
       "      <td>AM</td>\n",
       "      <td>Opera/8.58.(Windows NT 5.0; it-IT) Presto/2.9....</td>\n",
       "      <td>Cortez-Frye</td>\n",
       "      <td>6011944199756993</td>\n",
       "      <td>12/24</td>\n",
       "      <td>755</td>\n",
       "      <td>JCB 15 digit</td>\n",
       "      <td>mark74@kirby-stewart.org</td>\n",
       "      <td>Textile designer</td>\n",
       "      <td>110.103.77.195</td>\n",
       "      <td>fr</td>\n",
       "      <td>16.05</td>\n",
       "    </tr>\n",
       "  </tbody>\n",
       "</table>\n",
       "<p>1097 rows × 14 columns</p>\n",
       "</div>"
      ],
      "text/plain": [
       "                                                Address    Lot AM or PM  \\\n",
       "1     9374 Jasmine Spurs Suite 508\\nSouth John, TN 8...  28 rn       PM   \n",
       "19                  125 Hall Summit\\nBoothton, IL 41721  99 CU       PM   \n",
       "53                PSC 9431, Box 7059\\nAPO AA 29285-1363  14 qD       AM   \n",
       "76    49206 Campbell Port\\nNorth Cliffordshire, HI 3...  71 iu       PM   \n",
       "82    493 Smith Valleys Suite 004\\nNew Madelineville...  35 ls       PM   \n",
       "...                                                 ...    ...      ...   \n",
       "9941           43757 Brown Lodge\\nValerieberg, PR 88518  68 DG       AM   \n",
       "9947      32827 Carl Inlet\\nSouth Nicole, NY 38081-6636  40 Dp       PM   \n",
       "9951                518 Brown Dam\\nGarciaside, IN 33057  71 wq       AM   \n",
       "9977  02182 Keith Expressway\\nEast Shannon, CT 20578...  34 RL       AM   \n",
       "9980           6061 Dave Lights\\nPhillipsview, UT 40500  25 Mv       AM   \n",
       "\n",
       "                                           Browser Info  \\\n",
       "1     Opera/8.93.(Windows 98; Win 9x 4.90; en-US) Pr...   \n",
       "19    Mozilla/5.0 (compatible; MSIE 7.0; Windows NT ...   \n",
       "53    Opera/9.34.(X11; Linux x86_64; it-IT) Presto/2...   \n",
       "76    Mozilla/5.0 (Macintosh; U; PPC Mac OS X 10_5_9...   \n",
       "82    Mozilla/5.0 (iPod; U; CPU iPhone OS 4_0 like M...   \n",
       "...                                                 ...   \n",
       "9941  Mozilla/5.0 (compatible; MSIE 5.0; Windows NT ...   \n",
       "9947  Mozilla/5.0 (Windows; U; Windows 95) AppleWebK...   \n",
       "9951  Mozilla/5.0 (compatible; MSIE 8.0; Windows NT ...   \n",
       "9977  Mozilla/5.0 (compatible; MSIE 9.0; Windows NT ...   \n",
       "9980  Opera/8.58.(Windows NT 5.0; it-IT) Presto/2.9....   \n",
       "\n",
       "                              Company       Credit Card CC Exp Date  \\\n",
       "1     Fletcher, Richards and Whitaker  3337758169645356       11/18   \n",
       "19                    Turner-Mckinney      676343504830       02/20   \n",
       "53      Higgins, Cardenas and Kennedy   869972604798355       08/17   \n",
       "76                      Jacobs-Tucker  6011343518820988       01/17   \n",
       "82      Robinson, Johnston and Valdez  4351359627548412       06/17   \n",
       "...                               ...               ...         ...   \n",
       "9941         Jones, Williams and Dunn  6011508474487291       04/26   \n",
       "9947                    Pruitt-Flores  3158564208754951       03/17   \n",
       "9951      Crosby, Vasquez and Ballard  5256758441931287       12/17   \n",
       "9977      Deleon, Jacobson and Benton  4186094003664688       06/21   \n",
       "9980                      Cortez-Frye  6011944199756993       12/24   \n",
       "\n",
       "      CC Security Code    CC Provider                     Email  \\\n",
       "1                  561     Mastercard        anthony41@reed.com   \n",
       "19                 440  VISA 16 digit      ruiznicole@gmail.com   \n",
       "53                 157   JCB 16 digit        amorales@yahoo.com   \n",
       "76                 806        Voyager        eperez@hotmail.com   \n",
       "82                 937  VISA 13 digit         amendez@yahoo.com   \n",
       "...                ...            ...                       ...   \n",
       "9941               906     Mastercard     christian55@gmail.com   \n",
       "9947               386     Mastercard     josephsmith@gmail.com   \n",
       "9951               146  VISA 16 digit       cjennings@yahoo.com   \n",
       "9977               397   JCB 16 digit    daltoncarter@yahoo.com   \n",
       "9980               755   JCB 15 digit  mark74@kirby-stewart.org   \n",
       "\n",
       "                                               Job       IP Address Language  \\\n",
       "1                                Drilling engineer     15.160.41.51       fr   \n",
       "19                      Designer, interior/spatial   25.105.209.214       fr   \n",
       "53                                Technical author   44.108.117.122       fr   \n",
       "76                                       Paramedic   210.207.58.168       fr   \n",
       "82                             Engineer, materials  163.129.163.100       fr   \n",
       "...                                            ...              ...      ...   \n",
       "9941                      Secondary school teacher  216.118.235.145       fr   \n",
       "9947                              Textile designer     198.68.38.23       fr   \n",
       "9951  Lighting technician, broadcasting/film/video       58.12.83.1       fr   \n",
       "9977                           Biomedical engineer    146.238.118.2       fr   \n",
       "9980                              Textile designer   110.103.77.195       fr   \n",
       "\n",
       "      Purchase Price  \n",
       "1              70.73  \n",
       "19             58.39  \n",
       "53             10.41  \n",
       "76             57.34  \n",
       "82             49.04  \n",
       "...              ...  \n",
       "9941           60.03  \n",
       "9947           49.61  \n",
       "9951           57.59  \n",
       "9977           94.93  \n",
       "9980           16.05  \n",
       "\n",
       "[1097 rows x 14 columns]"
      ]
     },
     "execution_count": 19,
     "metadata": {},
     "output_type": "execute_result"
    }
   ],
   "source": [
    "df[df['Language']=='fr']"
   ]
  },
  {
   "cell_type": "code",
   "execution_count": 20,
   "id": "d44a1db7-1c0e-4699-a433-06d40a3561db",
   "metadata": {},
   "outputs": [
    {
     "name": "stdout",
     "output_type": "stream",
     "text": [
      "Number of people who speak french are: 1097\n"
     ]
    }
   ],
   "source": [
    "print(\"Number of people who speak french are:\",len(df[df['Language']=='fr']))"
   ]
  },
  {
   "cell_type": "markdown",
   "id": "b7f37b08-608c-42d8-8f02-5b8e6f316477",
   "metadata": {},
   "source": [
    "# Job title contains Engineer\n",
    "- Step 1: Retieve all the column names"
   ]
  },
  {
   "cell_type": "code",
   "execution_count": 21,
   "id": "4a21edba-bbd6-4dea-a18a-c3c6ed586afc",
   "metadata": {},
   "outputs": [
    {
     "data": {
      "text/plain": [
       "Index(['Address', 'Lot', 'AM or PM', 'Browser Info', 'Company', 'Credit Card',\n",
       "       'CC Exp Date', 'CC Security Code', 'CC Provider', 'Email', 'Job',\n",
       "       'IP Address', 'Language', 'Purchase Price'],\n",
       "      dtype='object')"
      ]
     },
     "execution_count": 21,
     "metadata": {},
     "output_type": "execute_result"
    }
   ],
   "source": [
    "df.columns"
   ]
  },
  {
   "cell_type": "markdown",
   "id": "dc07631c-4af0-4f32-9320-ff3a795b9a24",
   "metadata": {},
   "source": [
    "- Step 2:Retrieve the job column"
   ]
  },
  {
   "cell_type": "code",
   "execution_count": 22,
   "id": "38a2ef40-6fa6-4039-850c-ec0c15e2290c",
   "metadata": {},
   "outputs": [
    {
     "data": {
      "text/plain": [
       "0       Scientist, product/process development\n",
       "1                            Drilling engineer\n",
       "2                     Customer service manager\n",
       "3                            Drilling engineer\n",
       "4                                  Fine artist\n",
       "                         ...                  \n",
       "9995                                Printmaker\n",
       "9996                           Energy engineer\n",
       "9997                        Veterinary surgeon\n",
       "9998                  Local government officer\n",
       "9999                    Embryologist, clinical\n",
       "Name: Job, Length: 10000, dtype: object"
      ]
     },
     "execution_count": 22,
     "metadata": {},
     "output_type": "execute_result"
    }
   ],
   "source": [
    "df['Job']"
   ]
  },
  {
   "cell_type": "markdown",
   "id": "c90521ee-61ef-4228-a4e8-054d44fe374f",
   "metadata": {},
   "source": [
    "- Step 3: Finding the given condition"
   ]
  },
  {
   "cell_type": "code",
   "execution_count": 23,
   "id": "fa352e64-53ea-4fdb-b52b-e46aadef0bf8",
   "metadata": {},
   "outputs": [
    {
     "data": {
      "text/plain": [
       "0       False\n",
       "1        True\n",
       "2       False\n",
       "3        True\n",
       "4       False\n",
       "        ...  \n",
       "9995    False\n",
       "9996     True\n",
       "9997    False\n",
       "9998    False\n",
       "9999    False\n",
       "Name: Job, Length: 10000, dtype: bool"
      ]
     },
     "execution_count": 23,
     "metadata": {},
     "output_type": "execute_result"
    }
   ],
   "source": [
    "df['Job'].str.contains('engineer',case=False)"
   ]
  },
  {
   "cell_type": "markdown",
   "id": "4613a6ee-a44b-47ff-9833-869c0a43a9f2",
   "metadata": {},
   "source": [
    "- Step 4: Passing the boolean data to the data frame object"
   ]
  },
  {
   "cell_type": "code",
   "execution_count": 24,
   "id": "c964aa34-38ec-4a4b-b4da-3c4bdb604632",
   "metadata": {},
   "outputs": [
    {
     "data": {
      "text/html": [
       "<div>\n",
       "<style scoped>\n",
       "    .dataframe tbody tr th:only-of-type {\n",
       "        vertical-align: middle;\n",
       "    }\n",
       "\n",
       "    .dataframe tbody tr th {\n",
       "        vertical-align: top;\n",
       "    }\n",
       "\n",
       "    .dataframe thead th {\n",
       "        text-align: right;\n",
       "    }\n",
       "</style>\n",
       "<table border=\"1\" class=\"dataframe\">\n",
       "  <thead>\n",
       "    <tr style=\"text-align: right;\">\n",
       "      <th></th>\n",
       "      <th>Address</th>\n",
       "      <th>Lot</th>\n",
       "      <th>AM or PM</th>\n",
       "      <th>Browser Info</th>\n",
       "      <th>Company</th>\n",
       "      <th>Credit Card</th>\n",
       "      <th>CC Exp Date</th>\n",
       "      <th>CC Security Code</th>\n",
       "      <th>CC Provider</th>\n",
       "      <th>Email</th>\n",
       "      <th>Job</th>\n",
       "      <th>IP Address</th>\n",
       "      <th>Language</th>\n",
       "      <th>Purchase Price</th>\n",
       "    </tr>\n",
       "  </thead>\n",
       "  <tbody>\n",
       "    <tr>\n",
       "      <th>1</th>\n",
       "      <td>9374 Jasmine Spurs Suite 508\\nSouth John, TN 8...</td>\n",
       "      <td>28 rn</td>\n",
       "      <td>PM</td>\n",
       "      <td>Opera/8.93.(Windows 98; Win 9x 4.90; en-US) Pr...</td>\n",
       "      <td>Fletcher, Richards and Whitaker</td>\n",
       "      <td>3337758169645356</td>\n",
       "      <td>11/18</td>\n",
       "      <td>561</td>\n",
       "      <td>Mastercard</td>\n",
       "      <td>anthony41@reed.com</td>\n",
       "      <td>Drilling engineer</td>\n",
       "      <td>15.160.41.51</td>\n",
       "      <td>fr</td>\n",
       "      <td>70.73</td>\n",
       "    </tr>\n",
       "    <tr>\n",
       "      <th>3</th>\n",
       "      <td>7780 Julia Fords\\nNew Stacy, WA 45798</td>\n",
       "      <td>36 vm</td>\n",
       "      <td>PM</td>\n",
       "      <td>Mozilla/5.0 (Macintosh; Intel Mac OS X 10_8_0 ...</td>\n",
       "      <td>Williams, Marshall and Buchanan</td>\n",
       "      <td>6011578504430710</td>\n",
       "      <td>02/24</td>\n",
       "      <td>384</td>\n",
       "      <td>Discover</td>\n",
       "      <td>brent16@olson-robinson.info</td>\n",
       "      <td>Drilling engineer</td>\n",
       "      <td>30.250.74.19</td>\n",
       "      <td>es</td>\n",
       "      <td>78.04</td>\n",
       "    </tr>\n",
       "    <tr>\n",
       "      <th>50</th>\n",
       "      <td>41159 Michael Centers\\nAdamsfort, RI 37108-6674</td>\n",
       "      <td>46 Ce</td>\n",
       "      <td>PM</td>\n",
       "      <td>Mozilla/5.0 (Windows 98; Win 9x 4.90; sl-SI; r...</td>\n",
       "      <td>Wright, Williams and Mendez</td>\n",
       "      <td>4008586485908075</td>\n",
       "      <td>05/19</td>\n",
       "      <td>945</td>\n",
       "      <td>JCB 16 digit</td>\n",
       "      <td>susanvalentine@obrien.org</td>\n",
       "      <td>Mechanical engineer</td>\n",
       "      <td>213.203.143.215</td>\n",
       "      <td>de</td>\n",
       "      <td>36.85</td>\n",
       "    </tr>\n",
       "    <tr>\n",
       "      <th>55</th>\n",
       "      <td>27635 Maureen Bypass Apt. 883\\nSandraview, SD ...</td>\n",
       "      <td>59 LJ</td>\n",
       "      <td>AM</td>\n",
       "      <td>Mozilla/5.0 (iPod; U; CPU iPhone OS 3_3 like M...</td>\n",
       "      <td>Sims-Lyons</td>\n",
       "      <td>3158113629128344</td>\n",
       "      <td>09/19</td>\n",
       "      <td>857</td>\n",
       "      <td>VISA 16 digit</td>\n",
       "      <td>adkinsarthur@yahoo.com</td>\n",
       "      <td>Engineer, broadcasting (operations)</td>\n",
       "      <td>227.235.89.210</td>\n",
       "      <td>pt</td>\n",
       "      <td>48.74</td>\n",
       "    </tr>\n",
       "    <tr>\n",
       "      <th>60</th>\n",
       "      <td>7126 Katherine Squares\\nPerkinsview, CO 97299-...</td>\n",
       "      <td>63 qu</td>\n",
       "      <td>AM</td>\n",
       "      <td>Opera/8.68.(X11; Linux x86_64; en-US) Presto/2...</td>\n",
       "      <td>Marshall-Fernandez</td>\n",
       "      <td>349767747049645</td>\n",
       "      <td>05/20</td>\n",
       "      <td>672</td>\n",
       "      <td>JCB 15 digit</td>\n",
       "      <td>sweeneyhannah@jones.biz</td>\n",
       "      <td>Engineer, agricultural</td>\n",
       "      <td>197.144.142.102</td>\n",
       "      <td>de</td>\n",
       "      <td>20.43</td>\n",
       "    </tr>\n",
       "    <tr>\n",
       "      <th>...</th>\n",
       "      <td>...</td>\n",
       "      <td>...</td>\n",
       "      <td>...</td>\n",
       "      <td>...</td>\n",
       "      <td>...</td>\n",
       "      <td>...</td>\n",
       "      <td>...</td>\n",
       "      <td>...</td>\n",
       "      <td>...</td>\n",
       "      <td>...</td>\n",
       "      <td>...</td>\n",
       "      <td>...</td>\n",
       "      <td>...</td>\n",
       "      <td>...</td>\n",
       "    </tr>\n",
       "    <tr>\n",
       "      <th>9948</th>\n",
       "      <td>95544 Johnson Isle Suite 939\\nMichaelberg, RI ...</td>\n",
       "      <td>91 bW</td>\n",
       "      <td>AM</td>\n",
       "      <td>Opera/8.36.(X11; Linux x86_64; sl-SI) Presto/2...</td>\n",
       "      <td>Fox-Peterson</td>\n",
       "      <td>4762924304307</td>\n",
       "      <td>03/17</td>\n",
       "      <td>567</td>\n",
       "      <td>Mastercard</td>\n",
       "      <td>haleybenjamin@gmail.com</td>\n",
       "      <td>Structural engineer</td>\n",
       "      <td>120.36.140.58</td>\n",
       "      <td>en</td>\n",
       "      <td>71.89</td>\n",
       "    </tr>\n",
       "    <tr>\n",
       "      <th>9952</th>\n",
       "      <td>9991 Vaughn Hills\\nRacheltown, PA 55409</td>\n",
       "      <td>36 KC</td>\n",
       "      <td>PM</td>\n",
       "      <td>Mozilla/5.0 (X11; Linux i686; rv:1.9.5.20) Gec...</td>\n",
       "      <td>Ward, Smith and Castillo</td>\n",
       "      <td>6011679271321726</td>\n",
       "      <td>09/19</td>\n",
       "      <td>964</td>\n",
       "      <td>Voyager</td>\n",
       "      <td>jonesjennifer@olson.com</td>\n",
       "      <td>Engineer, energy</td>\n",
       "      <td>116.228.12.42</td>\n",
       "      <td>es</td>\n",
       "      <td>39.63</td>\n",
       "    </tr>\n",
       "    <tr>\n",
       "      <th>9970</th>\n",
       "      <td>0060 Keith Stream\\nWestport, CO 47097</td>\n",
       "      <td>11 nt</td>\n",
       "      <td>PM</td>\n",
       "      <td>Mozilla/5.0 (Macintosh; U; Intel Mac OS X 10_8...</td>\n",
       "      <td>Carpenter, Good and Hart</td>\n",
       "      <td>6011485664704662</td>\n",
       "      <td>07/19</td>\n",
       "      <td>543</td>\n",
       "      <td>Discover</td>\n",
       "      <td>rangelbrian@hotmail.com</td>\n",
       "      <td>Electrical engineer</td>\n",
       "      <td>242.8.85.205</td>\n",
       "      <td>en</td>\n",
       "      <td>17.76</td>\n",
       "    </tr>\n",
       "    <tr>\n",
       "      <th>9977</th>\n",
       "      <td>02182 Keith Expressway\\nEast Shannon, CT 20578...</td>\n",
       "      <td>34 RL</td>\n",
       "      <td>AM</td>\n",
       "      <td>Mozilla/5.0 (compatible; MSIE 9.0; Windows NT ...</td>\n",
       "      <td>Deleon, Jacobson and Benton</td>\n",
       "      <td>4186094003664688</td>\n",
       "      <td>06/21</td>\n",
       "      <td>397</td>\n",
       "      <td>JCB 16 digit</td>\n",
       "      <td>daltoncarter@yahoo.com</td>\n",
       "      <td>Biomedical engineer</td>\n",
       "      <td>146.238.118.2</td>\n",
       "      <td>fr</td>\n",
       "      <td>94.93</td>\n",
       "    </tr>\n",
       "    <tr>\n",
       "      <th>9996</th>\n",
       "      <td>832 Curtis Dam Suite 785\\nNorth Edwardburgh, T...</td>\n",
       "      <td>41 JY</td>\n",
       "      <td>AM</td>\n",
       "      <td>Mozilla/5.0 (compatible; MSIE 9.0; Windows NT ...</td>\n",
       "      <td>Hale, Collins and Wilson</td>\n",
       "      <td>210033169205009</td>\n",
       "      <td>07/25</td>\n",
       "      <td>207</td>\n",
       "      <td>JCB 16 digit</td>\n",
       "      <td>mary85@hotmail.com</td>\n",
       "      <td>Energy engineer</td>\n",
       "      <td>121.133.168.51</td>\n",
       "      <td>pt</td>\n",
       "      <td>25.63</td>\n",
       "    </tr>\n",
       "  </tbody>\n",
       "</table>\n",
       "<p>984 rows × 14 columns</p>\n",
       "</div>"
      ],
      "text/plain": [
       "                                                Address    Lot AM or PM  \\\n",
       "1     9374 Jasmine Spurs Suite 508\\nSouth John, TN 8...  28 rn       PM   \n",
       "3                 7780 Julia Fords\\nNew Stacy, WA 45798  36 vm       PM   \n",
       "50      41159 Michael Centers\\nAdamsfort, RI 37108-6674  46 Ce       PM   \n",
       "55    27635 Maureen Bypass Apt. 883\\nSandraview, SD ...  59 LJ       AM   \n",
       "60    7126 Katherine Squares\\nPerkinsview, CO 97299-...  63 qu       AM   \n",
       "...                                                 ...    ...      ...   \n",
       "9948  95544 Johnson Isle Suite 939\\nMichaelberg, RI ...  91 bW       AM   \n",
       "9952            9991 Vaughn Hills\\nRacheltown, PA 55409  36 KC       PM   \n",
       "9970              0060 Keith Stream\\nWestport, CO 47097  11 nt       PM   \n",
       "9977  02182 Keith Expressway\\nEast Shannon, CT 20578...  34 RL       AM   \n",
       "9996  832 Curtis Dam Suite 785\\nNorth Edwardburgh, T...  41 JY       AM   \n",
       "\n",
       "                                           Browser Info  \\\n",
       "1     Opera/8.93.(Windows 98; Win 9x 4.90; en-US) Pr...   \n",
       "3     Mozilla/5.0 (Macintosh; Intel Mac OS X 10_8_0 ...   \n",
       "50    Mozilla/5.0 (Windows 98; Win 9x 4.90; sl-SI; r...   \n",
       "55    Mozilla/5.0 (iPod; U; CPU iPhone OS 3_3 like M...   \n",
       "60    Opera/8.68.(X11; Linux x86_64; en-US) Presto/2...   \n",
       "...                                                 ...   \n",
       "9948  Opera/8.36.(X11; Linux x86_64; sl-SI) Presto/2...   \n",
       "9952  Mozilla/5.0 (X11; Linux i686; rv:1.9.5.20) Gec...   \n",
       "9970  Mozilla/5.0 (Macintosh; U; Intel Mac OS X 10_8...   \n",
       "9977  Mozilla/5.0 (compatible; MSIE 9.0; Windows NT ...   \n",
       "9996  Mozilla/5.0 (compatible; MSIE 9.0; Windows NT ...   \n",
       "\n",
       "                              Company       Credit Card CC Exp Date  \\\n",
       "1     Fletcher, Richards and Whitaker  3337758169645356       11/18   \n",
       "3     Williams, Marshall and Buchanan  6011578504430710       02/24   \n",
       "50        Wright, Williams and Mendez  4008586485908075       05/19   \n",
       "55                         Sims-Lyons  3158113629128344       09/19   \n",
       "60                 Marshall-Fernandez   349767747049645       05/20   \n",
       "...                               ...               ...         ...   \n",
       "9948                     Fox-Peterson     4762924304307       03/17   \n",
       "9952         Ward, Smith and Castillo  6011679271321726       09/19   \n",
       "9970         Carpenter, Good and Hart  6011485664704662       07/19   \n",
       "9977      Deleon, Jacobson and Benton  4186094003664688       06/21   \n",
       "9996         Hale, Collins and Wilson   210033169205009       07/25   \n",
       "\n",
       "      CC Security Code    CC Provider                        Email  \\\n",
       "1                  561     Mastercard           anthony41@reed.com   \n",
       "3                  384       Discover  brent16@olson-robinson.info   \n",
       "50                 945   JCB 16 digit    susanvalentine@obrien.org   \n",
       "55                 857  VISA 16 digit       adkinsarthur@yahoo.com   \n",
       "60                 672   JCB 15 digit      sweeneyhannah@jones.biz   \n",
       "...                ...            ...                          ...   \n",
       "9948               567     Mastercard      haleybenjamin@gmail.com   \n",
       "9952               964        Voyager      jonesjennifer@olson.com   \n",
       "9970               543       Discover      rangelbrian@hotmail.com   \n",
       "9977               397   JCB 16 digit       daltoncarter@yahoo.com   \n",
       "9996               207   JCB 16 digit           mary85@hotmail.com   \n",
       "\n",
       "                                      Job       IP Address Language  \\\n",
       "1                       Drilling engineer     15.160.41.51       fr   \n",
       "3                       Drilling engineer     30.250.74.19       es   \n",
       "50                    Mechanical engineer  213.203.143.215       de   \n",
       "55    Engineer, broadcasting (operations)   227.235.89.210       pt   \n",
       "60                 Engineer, agricultural  197.144.142.102       de   \n",
       "...                                   ...              ...      ...   \n",
       "9948                  Structural engineer    120.36.140.58       en   \n",
       "9952                     Engineer, energy    116.228.12.42       es   \n",
       "9970                  Electrical engineer     242.8.85.205       en   \n",
       "9977                  Biomedical engineer    146.238.118.2       fr   \n",
       "9996                      Energy engineer   121.133.168.51       pt   \n",
       "\n",
       "      Purchase Price  \n",
       "1              70.73  \n",
       "3              78.04  \n",
       "50             36.85  \n",
       "55             48.74  \n",
       "60             20.43  \n",
       "...              ...  \n",
       "9948           71.89  \n",
       "9952           39.63  \n",
       "9970           17.76  \n",
       "9977           94.93  \n",
       "9996           25.63  \n",
       "\n",
       "[984 rows x 14 columns]"
      ]
     },
     "execution_count": 24,
     "metadata": {},
     "output_type": "execute_result"
    }
   ],
   "source": [
    "df[df['Job'].str.contains('engineer',case=False)]"
   ]
  },
  {
   "cell_type": "markdown",
   "id": "3be01876-aa59-4dbe-a4d6-2f7f617b299c",
   "metadata": {},
   "source": [
    "- Step 5: Getting only the job titles from the dataset"
   ]
  },
  {
   "cell_type": "code",
   "execution_count": 25,
   "id": "262cdec4-4541-4043-9b00-62823245fc78",
   "metadata": {},
   "outputs": [
    {
     "data": {
      "text/plain": [
       "1                         Drilling engineer\n",
       "3                         Drilling engineer\n",
       "50                      Mechanical engineer\n",
       "55      Engineer, broadcasting (operations)\n",
       "60                   Engineer, agricultural\n",
       "                       ...                 \n",
       "9948                    Structural engineer\n",
       "9952                       Engineer, energy\n",
       "9970                    Electrical engineer\n",
       "9977                    Biomedical engineer\n",
       "9996                        Energy engineer\n",
       "Name: Job, Length: 984, dtype: object"
      ]
     },
     "execution_count": 25,
     "metadata": {},
     "output_type": "execute_result"
    }
   ],
   "source": [
    "df[df['Job'].str.contains('engineer',case=False)]['Job']"
   ]
  },
  {
   "cell_type": "markdown",
   "id": "4e878a98-14ce-40fa-8835-e76925453259",
   "metadata": {},
   "source": [
    "- Step 6: Printing ten jobs that contain the word 'engineer'"
   ]
  },
  {
   "cell_type": "code",
   "execution_count": 84,
   "id": "24b020cb-fb72-4ca1-a611-fbb3ef6db97e",
   "metadata": {},
   "outputs": [
    {
     "name": "stdout",
     "output_type": "stream",
     "text": [
      "Drilling engineer\n",
      "Drilling engineer\n",
      "Mechanical engineer\n",
      "Engineer, broadcasting (operations)\n",
      "Engineer, agricultural\n",
      "Engineer, civil (consulting)\n",
      "Engineer, materials\n",
      "Engineer, land\n",
      "Engineer, water\n",
      "Technical sales engineer\n"
     ]
    }
   ],
   "source": [
    "for val in df[df['Job'].str.contains('engineer',case=False)]['Job'][:10]:\n",
    "    print(val)"
   ]
  },
  {
   "cell_type": "markdown",
   "id": "ea09b956-b93c-427b-91f1-ab4510e7bd2c",
   "metadata": {},
   "source": [
    "# Find the Email of the person whose IP Address is: 132.207.160.22\n",
    "- Step 1: Retrieve all the column names"
   ]
  },
  {
   "cell_type": "code",
   "execution_count": 27,
   "id": "77157fc1-4f25-43ba-bb3a-57d855a7a725",
   "metadata": {},
   "outputs": [
    {
     "data": {
      "text/plain": [
       "Index(['Address', 'Lot', 'AM or PM', 'Browser Info', 'Company', 'Credit Card',\n",
       "       'CC Exp Date', 'CC Security Code', 'CC Provider', 'Email', 'Job',\n",
       "       'IP Address', 'Language', 'Purchase Price'],\n",
       "      dtype='object')"
      ]
     },
     "execution_count": 27,
     "metadata": {},
     "output_type": "execute_result"
    }
   ],
   "source": [
    "df.columns"
   ]
  },
  {
   "cell_type": "markdown",
   "id": "565159ac-56e9-422a-a976-f9c5b48b7d65",
   "metadata": {},
   "source": [
    "- Step 2: Find the person who booked from the given IP Address"
   ]
  },
  {
   "cell_type": "code",
   "execution_count": 28,
   "id": "2bc2874f-5709-437b-901e-94914ecbae3b",
   "metadata": {},
   "outputs": [
    {
     "data": {
      "text/plain": [
       "0       False\n",
       "1       False\n",
       "2        True\n",
       "3       False\n",
       "4       False\n",
       "        ...  \n",
       "9995    False\n",
       "9996    False\n",
       "9997    False\n",
       "9998    False\n",
       "9999    False\n",
       "Name: IP Address, Length: 10000, dtype: bool"
      ]
     },
     "execution_count": 28,
     "metadata": {},
     "output_type": "execute_result"
    }
   ],
   "source": [
    "df['IP Address']=='132.207.160.22'"
   ]
  },
  {
   "cell_type": "markdown",
   "id": "80c26f47-9f68-4acb-9d0f-481011b32ddf",
   "metadata": {},
   "source": [
    "-Step 3: Pass the boolean data to the dataframe"
   ]
  },
  {
   "cell_type": "code",
   "execution_count": 29,
   "id": "db45d3bc-5a3f-4a64-93d8-03b0311e0087",
   "metadata": {},
   "outputs": [
    {
     "data": {
      "text/html": [
       "<div>\n",
       "<style scoped>\n",
       "    .dataframe tbody tr th:only-of-type {\n",
       "        vertical-align: middle;\n",
       "    }\n",
       "\n",
       "    .dataframe tbody tr th {\n",
       "        vertical-align: top;\n",
       "    }\n",
       "\n",
       "    .dataframe thead th {\n",
       "        text-align: right;\n",
       "    }\n",
       "</style>\n",
       "<table border=\"1\" class=\"dataframe\">\n",
       "  <thead>\n",
       "    <tr style=\"text-align: right;\">\n",
       "      <th></th>\n",
       "      <th>Address</th>\n",
       "      <th>Lot</th>\n",
       "      <th>AM or PM</th>\n",
       "      <th>Browser Info</th>\n",
       "      <th>Company</th>\n",
       "      <th>Credit Card</th>\n",
       "      <th>CC Exp Date</th>\n",
       "      <th>CC Security Code</th>\n",
       "      <th>CC Provider</th>\n",
       "      <th>Email</th>\n",
       "      <th>Job</th>\n",
       "      <th>IP Address</th>\n",
       "      <th>Language</th>\n",
       "      <th>Purchase Price</th>\n",
       "    </tr>\n",
       "  </thead>\n",
       "  <tbody>\n",
       "    <tr>\n",
       "      <th>2</th>\n",
       "      <td>Unit 0065 Box 5052\\nDPO AP 27450</td>\n",
       "      <td>94 vE</td>\n",
       "      <td>PM</td>\n",
       "      <td>Mozilla/5.0 (compatible; MSIE 9.0; Windows NT ...</td>\n",
       "      <td>Simpson, Williams and Pham</td>\n",
       "      <td>675957666125</td>\n",
       "      <td>08/19</td>\n",
       "      <td>699</td>\n",
       "      <td>JCB 16 digit</td>\n",
       "      <td>amymiller@morales-harrison.com</td>\n",
       "      <td>Customer service manager</td>\n",
       "      <td>132.207.160.22</td>\n",
       "      <td>de</td>\n",
       "      <td>0.95</td>\n",
       "    </tr>\n",
       "  </tbody>\n",
       "</table>\n",
       "</div>"
      ],
      "text/plain": [
       "                            Address    Lot AM or PM  \\\n",
       "2  Unit 0065 Box 5052\\nDPO AP 27450  94 vE       PM   \n",
       "\n",
       "                                        Browser Info  \\\n",
       "2  Mozilla/5.0 (compatible; MSIE 9.0; Windows NT ...   \n",
       "\n",
       "                      Company   Credit Card CC Exp Date  CC Security Code  \\\n",
       "2  Simpson, Williams and Pham  675957666125       08/19               699   \n",
       "\n",
       "    CC Provider                           Email                       Job  \\\n",
       "2  JCB 16 digit  amymiller@morales-harrison.com  Customer service manager   \n",
       "\n",
       "       IP Address Language  Purchase Price  \n",
       "2  132.207.160.22       de            0.95  "
      ]
     },
     "execution_count": 29,
     "metadata": {},
     "output_type": "execute_result"
    }
   ],
   "source": [
    "df[df['IP Address']=='132.207.160.22']"
   ]
  },
  {
   "cell_type": "markdown",
   "id": "b306c2f8-13e0-402b-a7dd-bd417f33e2fe",
   "metadata": {},
   "source": [
    "- Step 4: Finding only the name of the person who booked from the given IP Address"
   ]
  },
  {
   "cell_type": "code",
   "execution_count": 30,
   "id": "693a2a97-b294-4b2f-bf89-9a6c715c4875",
   "metadata": {},
   "outputs": [
    {
     "data": {
      "text/plain": [
       "2    amymiller@morales-harrison.com\n",
       "Name: Email, dtype: object"
      ]
     },
     "execution_count": 30,
     "metadata": {},
     "output_type": "execute_result"
    }
   ],
   "source": [
    "df[df['IP Address']=='132.207.160.22']['Email']"
   ]
  },
  {
   "cell_type": "markdown",
   "id": "22eb335f-28dc-4c43-b4c9-b1ef99f1fa3d",
   "metadata": {},
   "source": [
    "# How mnay people have Mastercard as their credit card provider and made a purchase above 50\n",
    "- Step 1: Retrieve all the column names"
   ]
  },
  {
   "cell_type": "code",
   "execution_count": 31,
   "id": "9935713d-56a5-4173-822e-bd3fc34886bc",
   "metadata": {},
   "outputs": [
    {
     "data": {
      "text/plain": [
       "Index(['Address', 'Lot', 'AM or PM', 'Browser Info', 'Company', 'Credit Card',\n",
       "       'CC Exp Date', 'CC Security Code', 'CC Provider', 'Email', 'Job',\n",
       "       'IP Address', 'Language', 'Purchase Price'],\n",
       "      dtype='object')"
      ]
     },
     "execution_count": 31,
     "metadata": {},
     "output_type": "execute_result"
    }
   ],
   "source": [
    "df.columns"
   ]
  },
  {
   "cell_type": "markdown",
   "id": "e6a091a4-dc70-4471-aaa2-dc5e6d61d385",
   "metadata": {},
   "source": [
    "- Step 2: Retrieve the column data"
   ]
  },
  {
   "cell_type": "code",
   "execution_count": 32,
   "id": "b73e2593-d53e-4af2-8532-0f706c7c5c8f",
   "metadata": {},
   "outputs": [
    {
     "data": {
      "text/plain": [
       "0                      JCB 16 digit\n",
       "1                        Mastercard\n",
       "2                      JCB 16 digit\n",
       "3                          Discover\n",
       "4       Diners Club / Carte Blanche\n",
       "                   ...             \n",
       "9995                   JCB 15 digit\n",
       "9996                   JCB 16 digit\n",
       "9997                  VISA 16 digit\n",
       "9998               American Express\n",
       "9999                   JCB 15 digit\n",
       "Name: CC Provider, Length: 10000, dtype: object"
      ]
     },
     "execution_count": 32,
     "metadata": {},
     "output_type": "execute_result"
    }
   ],
   "source": [
    "df['CC Provider']"
   ]
  },
  {
   "cell_type": "markdown",
   "id": "abb4e522-5791-4703-9266-1e291e1d4874",
   "metadata": {},
   "source": [
    "- Step 3: Find the Mastercard CC Provider "
   ]
  },
  {
   "cell_type": "code",
   "execution_count": 33,
   "id": "8da47c58-c856-46dd-9503-9b78f5dbfdad",
   "metadata": {},
   "outputs": [
    {
     "data": {
      "text/plain": [
       "0       False\n",
       "1        True\n",
       "2       False\n",
       "3       False\n",
       "4       False\n",
       "        ...  \n",
       "9995    False\n",
       "9996    False\n",
       "9997    False\n",
       "9998    False\n",
       "9999    False\n",
       "Name: CC Provider, Length: 10000, dtype: bool"
      ]
     },
     "execution_count": 33,
     "metadata": {},
     "output_type": "execute_result"
    }
   ],
   "source": [
    "df['CC Provider']=='Mastercard'"
   ]
  },
  {
   "cell_type": "markdown",
   "id": "b840e9f9-e9d5-49e8-8e1c-6b83175b91af",
   "metadata": {},
   "source": [
    "- Step 4: Passing the boolean array to dataframe"
   ]
  },
  {
   "cell_type": "code",
   "execution_count": 34,
   "id": "f13c7b0e-169b-4742-bb4e-477e20f0d488",
   "metadata": {},
   "outputs": [
    {
     "data": {
      "text/html": [
       "<div>\n",
       "<style scoped>\n",
       "    .dataframe tbody tr th:only-of-type {\n",
       "        vertical-align: middle;\n",
       "    }\n",
       "\n",
       "    .dataframe tbody tr th {\n",
       "        vertical-align: top;\n",
       "    }\n",
       "\n",
       "    .dataframe thead th {\n",
       "        text-align: right;\n",
       "    }\n",
       "</style>\n",
       "<table border=\"1\" class=\"dataframe\">\n",
       "  <thead>\n",
       "    <tr style=\"text-align: right;\">\n",
       "      <th></th>\n",
       "      <th>Address</th>\n",
       "      <th>Lot</th>\n",
       "      <th>AM or PM</th>\n",
       "      <th>Browser Info</th>\n",
       "      <th>Company</th>\n",
       "      <th>Credit Card</th>\n",
       "      <th>CC Exp Date</th>\n",
       "      <th>CC Security Code</th>\n",
       "      <th>CC Provider</th>\n",
       "      <th>Email</th>\n",
       "      <th>Job</th>\n",
       "      <th>IP Address</th>\n",
       "      <th>Language</th>\n",
       "      <th>Purchase Price</th>\n",
       "    </tr>\n",
       "  </thead>\n",
       "  <tbody>\n",
       "    <tr>\n",
       "      <th>1</th>\n",
       "      <td>9374 Jasmine Spurs Suite 508\\nSouth John, TN 8...</td>\n",
       "      <td>28 rn</td>\n",
       "      <td>PM</td>\n",
       "      <td>Opera/8.93.(Windows 98; Win 9x 4.90; en-US) Pr...</td>\n",
       "      <td>Fletcher, Richards and Whitaker</td>\n",
       "      <td>3337758169645356</td>\n",
       "      <td>11/18</td>\n",
       "      <td>561</td>\n",
       "      <td>Mastercard</td>\n",
       "      <td>anthony41@reed.com</td>\n",
       "      <td>Drilling engineer</td>\n",
       "      <td>15.160.41.51</td>\n",
       "      <td>fr</td>\n",
       "      <td>70.73</td>\n",
       "    </tr>\n",
       "    <tr>\n",
       "      <th>18</th>\n",
       "      <td>461 Christopher Square\\nWest Michaelchester, C...</td>\n",
       "      <td>17 SB</td>\n",
       "      <td>PM</td>\n",
       "      <td>Mozilla/5.0 (X11; Linux i686; rv:1.9.6.20) Gec...</td>\n",
       "      <td>Beard, Abbott and Pena</td>\n",
       "      <td>6011350184276270</td>\n",
       "      <td>12/22</td>\n",
       "      <td>767</td>\n",
       "      <td>Mastercard</td>\n",
       "      <td>hannah63@yahoo.com</td>\n",
       "      <td>Photographer</td>\n",
       "      <td>73.250.176.201</td>\n",
       "      <td>el</td>\n",
       "      <td>70.15</td>\n",
       "    </tr>\n",
       "    <tr>\n",
       "      <th>31</th>\n",
       "      <td>USNS Alvarado\\nFPO AA 27052-1231</td>\n",
       "      <td>26 Lh</td>\n",
       "      <td>PM</td>\n",
       "      <td>Opera/8.84.(X11; Linux i686; sl-SI) Presto/2.9...</td>\n",
       "      <td>Nicholson Group</td>\n",
       "      <td>4614997834548</td>\n",
       "      <td>03/22</td>\n",
       "      <td>909</td>\n",
       "      <td>Mastercard</td>\n",
       "      <td>ashley12@hotmail.com</td>\n",
       "      <td>Sales executive</td>\n",
       "      <td>94.176.142.201</td>\n",
       "      <td>en</td>\n",
       "      <td>94.14</td>\n",
       "    </tr>\n",
       "    <tr>\n",
       "      <th>35</th>\n",
       "      <td>93392 Webb Gardens Apt. 220\\nLaurabury, AR 999...</td>\n",
       "      <td>37 om</td>\n",
       "      <td>AM</td>\n",
       "      <td>Mozilla/5.0 (Macintosh; U; Intel Mac OS X 10_7...</td>\n",
       "      <td>Mora Ltd</td>\n",
       "      <td>6011049630969815</td>\n",
       "      <td>09/16</td>\n",
       "      <td>367</td>\n",
       "      <td>Mastercard</td>\n",
       "      <td>hgonzalez@mcdowell.com</td>\n",
       "      <td>Lecturer, further education</td>\n",
       "      <td>216.23.95.40</td>\n",
       "      <td>zh</td>\n",
       "      <td>97.46</td>\n",
       "    </tr>\n",
       "    <tr>\n",
       "      <th>41</th>\n",
       "      <td>779 Sydney Keys Apt. 119\\nAnthonyside, NH 2179...</td>\n",
       "      <td>21 lh</td>\n",
       "      <td>PM</td>\n",
       "      <td>Mozilla/5.0 (Windows; U; Windows 98) AppleWebK...</td>\n",
       "      <td>Scott-Fuller</td>\n",
       "      <td>4547562019036152</td>\n",
       "      <td>08/20</td>\n",
       "      <td>716</td>\n",
       "      <td>Mastercard</td>\n",
       "      <td>kimberlygaines@yahoo.com</td>\n",
       "      <td>Tax inspector</td>\n",
       "      <td>246.108.171.137</td>\n",
       "      <td>ru</td>\n",
       "      <td>23.06</td>\n",
       "    </tr>\n",
       "    <tr>\n",
       "      <th>...</th>\n",
       "      <td>...</td>\n",
       "      <td>...</td>\n",
       "      <td>...</td>\n",
       "      <td>...</td>\n",
       "      <td>...</td>\n",
       "      <td>...</td>\n",
       "      <td>...</td>\n",
       "      <td>...</td>\n",
       "      <td>...</td>\n",
       "      <td>...</td>\n",
       "      <td>...</td>\n",
       "      <td>...</td>\n",
       "      <td>...</td>\n",
       "      <td>...</td>\n",
       "    </tr>\n",
       "    <tr>\n",
       "      <th>9947</th>\n",
       "      <td>32827 Carl Inlet\\nSouth Nicole, NY 38081-6636</td>\n",
       "      <td>40 Dp</td>\n",
       "      <td>PM</td>\n",
       "      <td>Mozilla/5.0 (Windows; U; Windows 95) AppleWebK...</td>\n",
       "      <td>Pruitt-Flores</td>\n",
       "      <td>3158564208754951</td>\n",
       "      <td>03/17</td>\n",
       "      <td>386</td>\n",
       "      <td>Mastercard</td>\n",
       "      <td>josephsmith@gmail.com</td>\n",
       "      <td>Textile designer</td>\n",
       "      <td>198.68.38.23</td>\n",
       "      <td>fr</td>\n",
       "      <td>49.61</td>\n",
       "    </tr>\n",
       "    <tr>\n",
       "      <th>9948</th>\n",
       "      <td>95544 Johnson Isle Suite 939\\nMichaelberg, RI ...</td>\n",
       "      <td>91 bW</td>\n",
       "      <td>AM</td>\n",
       "      <td>Opera/8.36.(X11; Linux x86_64; sl-SI) Presto/2...</td>\n",
       "      <td>Fox-Peterson</td>\n",
       "      <td>4762924304307</td>\n",
       "      <td>03/17</td>\n",
       "      <td>567</td>\n",
       "      <td>Mastercard</td>\n",
       "      <td>haleybenjamin@gmail.com</td>\n",
       "      <td>Structural engineer</td>\n",
       "      <td>120.36.140.58</td>\n",
       "      <td>en</td>\n",
       "      <td>71.89</td>\n",
       "    </tr>\n",
       "    <tr>\n",
       "      <th>9954</th>\n",
       "      <td>051 Samantha Wells Apt. 328\\nScottborough, OR ...</td>\n",
       "      <td>11 vG</td>\n",
       "      <td>AM</td>\n",
       "      <td>Mozilla/5.0 (Macintosh; U; PPC Mac OS X 10_8_2...</td>\n",
       "      <td>Mendoza, Zimmerman and Reilly</td>\n",
       "      <td>30232295374907</td>\n",
       "      <td>05/21</td>\n",
       "      <td>762</td>\n",
       "      <td>Mastercard</td>\n",
       "      <td>brownamy@perkins.com</td>\n",
       "      <td>Presenter, broadcasting</td>\n",
       "      <td>61.97.84.101</td>\n",
       "      <td>it</td>\n",
       "      <td>87.15</td>\n",
       "    </tr>\n",
       "    <tr>\n",
       "      <th>9981</th>\n",
       "      <td>087 Larson Roads Apt. 587\\nRicestad, WI 98077-...</td>\n",
       "      <td>95 Kw</td>\n",
       "      <td>AM</td>\n",
       "      <td>Opera/9.63.(Windows NT 5.01; en-US) Presto/2.9...</td>\n",
       "      <td>Ortiz, Schultz and Adams</td>\n",
       "      <td>4690863684605</td>\n",
       "      <td>01/19</td>\n",
       "      <td>695</td>\n",
       "      <td>Mastercard</td>\n",
       "      <td>laurenbennett@richards.com</td>\n",
       "      <td>Environmental education officer</td>\n",
       "      <td>106.21.237.73</td>\n",
       "      <td>pt</td>\n",
       "      <td>63.61</td>\n",
       "    </tr>\n",
       "    <tr>\n",
       "      <th>9987</th>\n",
       "      <td>2754 Klein Mission\\nJohnsonview, PA 64925-9624</td>\n",
       "      <td>65 Fg</td>\n",
       "      <td>PM</td>\n",
       "      <td>Opera/9.26.(Windows CE; sl-SI) Presto/2.9.188 ...</td>\n",
       "      <td>Curtis LLC</td>\n",
       "      <td>180027305702263</td>\n",
       "      <td>12/24</td>\n",
       "      <td>865</td>\n",
       "      <td>Mastercard</td>\n",
       "      <td>denisehamilton@novak.biz</td>\n",
       "      <td>Primary school teacher</td>\n",
       "      <td>164.39.190.217</td>\n",
       "      <td>es</td>\n",
       "      <td>60.83</td>\n",
       "    </tr>\n",
       "  </tbody>\n",
       "</table>\n",
       "<p>816 rows × 14 columns</p>\n",
       "</div>"
      ],
      "text/plain": [
       "                                                Address    Lot AM or PM  \\\n",
       "1     9374 Jasmine Spurs Suite 508\\nSouth John, TN 8...  28 rn       PM   \n",
       "18    461 Christopher Square\\nWest Michaelchester, C...  17 SB       PM   \n",
       "31                     USNS Alvarado\\nFPO AA 27052-1231  26 Lh       PM   \n",
       "35    93392 Webb Gardens Apt. 220\\nLaurabury, AR 999...  37 om       AM   \n",
       "41    779 Sydney Keys Apt. 119\\nAnthonyside, NH 2179...  21 lh       PM   \n",
       "...                                                 ...    ...      ...   \n",
       "9947      32827 Carl Inlet\\nSouth Nicole, NY 38081-6636  40 Dp       PM   \n",
       "9948  95544 Johnson Isle Suite 939\\nMichaelberg, RI ...  91 bW       AM   \n",
       "9954  051 Samantha Wells Apt. 328\\nScottborough, OR ...  11 vG       AM   \n",
       "9981  087 Larson Roads Apt. 587\\nRicestad, WI 98077-...  95 Kw       AM   \n",
       "9987     2754 Klein Mission\\nJohnsonview, PA 64925-9624  65 Fg       PM   \n",
       "\n",
       "                                           Browser Info  \\\n",
       "1     Opera/8.93.(Windows 98; Win 9x 4.90; en-US) Pr...   \n",
       "18    Mozilla/5.0 (X11; Linux i686; rv:1.9.6.20) Gec...   \n",
       "31    Opera/8.84.(X11; Linux i686; sl-SI) Presto/2.9...   \n",
       "35    Mozilla/5.0 (Macintosh; U; Intel Mac OS X 10_7...   \n",
       "41    Mozilla/5.0 (Windows; U; Windows 98) AppleWebK...   \n",
       "...                                                 ...   \n",
       "9947  Mozilla/5.0 (Windows; U; Windows 95) AppleWebK...   \n",
       "9948  Opera/8.36.(X11; Linux x86_64; sl-SI) Presto/2...   \n",
       "9954  Mozilla/5.0 (Macintosh; U; PPC Mac OS X 10_8_2...   \n",
       "9981  Opera/9.63.(Windows NT 5.01; en-US) Presto/2.9...   \n",
       "9987  Opera/9.26.(Windows CE; sl-SI) Presto/2.9.188 ...   \n",
       "\n",
       "                              Company       Credit Card CC Exp Date  \\\n",
       "1     Fletcher, Richards and Whitaker  3337758169645356       11/18   \n",
       "18             Beard, Abbott and Pena  6011350184276270       12/22   \n",
       "31                    Nicholson Group     4614997834548       03/22   \n",
       "35                           Mora Ltd  6011049630969815       09/16   \n",
       "41                       Scott-Fuller  4547562019036152       08/20   \n",
       "...                               ...               ...         ...   \n",
       "9947                    Pruitt-Flores  3158564208754951       03/17   \n",
       "9948                     Fox-Peterson     4762924304307       03/17   \n",
       "9954    Mendoza, Zimmerman and Reilly    30232295374907       05/21   \n",
       "9981         Ortiz, Schultz and Adams     4690863684605       01/19   \n",
       "9987                       Curtis LLC   180027305702263       12/24   \n",
       "\n",
       "      CC Security Code CC Provider                       Email  \\\n",
       "1                  561  Mastercard          anthony41@reed.com   \n",
       "18                 767  Mastercard          hannah63@yahoo.com   \n",
       "31                 909  Mastercard        ashley12@hotmail.com   \n",
       "35                 367  Mastercard      hgonzalez@mcdowell.com   \n",
       "41                 716  Mastercard    kimberlygaines@yahoo.com   \n",
       "...                ...         ...                         ...   \n",
       "9947               386  Mastercard       josephsmith@gmail.com   \n",
       "9948               567  Mastercard     haleybenjamin@gmail.com   \n",
       "9954               762  Mastercard        brownamy@perkins.com   \n",
       "9981               695  Mastercard  laurenbennett@richards.com   \n",
       "9987               865  Mastercard    denisehamilton@novak.biz   \n",
       "\n",
       "                                  Job       IP Address Language  \\\n",
       "1                   Drilling engineer     15.160.41.51       fr   \n",
       "18                       Photographer   73.250.176.201       el   \n",
       "31                    Sales executive   94.176.142.201       en   \n",
       "35        Lecturer, further education     216.23.95.40       zh   \n",
       "41                      Tax inspector  246.108.171.137       ru   \n",
       "...                               ...              ...      ...   \n",
       "9947                 Textile designer     198.68.38.23       fr   \n",
       "9948              Structural engineer    120.36.140.58       en   \n",
       "9954          Presenter, broadcasting     61.97.84.101       it   \n",
       "9981  Environmental education officer    106.21.237.73       pt   \n",
       "9987           Primary school teacher   164.39.190.217       es   \n",
       "\n",
       "      Purchase Price  \n",
       "1              70.73  \n",
       "18             70.15  \n",
       "31             94.14  \n",
       "35             97.46  \n",
       "41             23.06  \n",
       "...              ...  \n",
       "9947           49.61  \n",
       "9948           71.89  \n",
       "9954           87.15  \n",
       "9981           63.61  \n",
       "9987           60.83  \n",
       "\n",
       "[816 rows x 14 columns]"
      ]
     },
     "execution_count": 34,
     "metadata": {},
     "output_type": "execute_result"
    }
   ],
   "source": [
    "df[df['CC Provider']=='Mastercard']"
   ]
  },
  {
   "cell_type": "markdown",
   "id": "ddbab136-e47e-41a8-96eb-e58f008f7d0d",
   "metadata": {},
   "source": [
    "- Step 5: Finding the data that who is having CC Provider as mastercard and having purchaces greater than 50"
   ]
  },
  {
   "cell_type": "code",
   "execution_count": 35,
   "id": "c9021cad-4279-49a5-89ee-2e25fd10288e",
   "metadata": {},
   "outputs": [
    {
     "data": {
      "text/plain": [
       "1        True\n",
       "18       True\n",
       "31       True\n",
       "35       True\n",
       "41      False\n",
       "        ...  \n",
       "9947    False\n",
       "9948     True\n",
       "9954     True\n",
       "9981     True\n",
       "9987     True\n",
       "Name: Purchase Price, Length: 816, dtype: bool"
      ]
     },
     "execution_count": 35,
     "metadata": {},
     "output_type": "execute_result"
    }
   ],
   "source": [
    "df[df['CC Provider']=='Mastercard']['Purchase Price']>50"
   ]
  },
  {
   "cell_type": "markdown",
   "id": "f6fe6a0b-352d-4654-bdd2-0af172e71d13",
   "metadata": {},
   "source": [
    "- Step 5: Finding the final count"
   ]
  },
  {
   "cell_type": "code",
   "execution_count": 36,
   "id": "57cc2098-bd76-409f-a3d9-f958205801d6",
   "metadata": {},
   "outputs": [
    {
     "name": "stdout",
     "output_type": "stream",
     "text": [
      "Number of people having CC Provider as Mastercard and having purchase greater than 50: 816\n"
     ]
    }
   ],
   "source": [
    "print(\"Number of people having CC Provider as Mastercard and having purchase greater than 50:\",len(df[df['CC Provider']=='Mastercard']['Purchase Price']>50))"
   ]
  },
  {
   "cell_type": "markdown",
   "id": "e7083e90-4cbb-4be1-9b6c-f9c2a6beec92",
   "metadata": {},
   "source": [
    "# Find the email of the person with the credit card number: 46648258997302\n",
    "- Step 1: Retrieve all the column names"
   ]
  },
  {
   "cell_type": "code",
   "execution_count": 37,
   "id": "46849d63-c8b6-4f82-a978-f33d93dce615",
   "metadata": {},
   "outputs": [
    {
     "data": {
      "text/plain": [
       "Index(['Address', 'Lot', 'AM or PM', 'Browser Info', 'Company', 'Credit Card',\n",
       "       'CC Exp Date', 'CC Security Code', 'CC Provider', 'Email', 'Job',\n",
       "       'IP Address', 'Language', 'Purchase Price'],\n",
       "      dtype='object')"
      ]
     },
     "execution_count": 37,
     "metadata": {},
     "output_type": "execute_result"
    }
   ],
   "source": [
    "df.columns"
   ]
  },
  {
   "cell_type": "markdown",
   "id": "8e66375d-56ac-4b80-b89e-0d9c252f90d5",
   "metadata": {},
   "source": [
    "- Step 2: Retrieve the column"
   ]
  },
  {
   "cell_type": "code",
   "execution_count": 38,
   "id": "c6e6ae01-d03a-4896-9b8e-acffcd9c286f",
   "metadata": {},
   "outputs": [
    {
     "data": {
      "text/plain": [
       "0       6011929061123406\n",
       "1       3337758169645356\n",
       "2           675957666125\n",
       "3       6011578504430710\n",
       "4       6011456623207998\n",
       "              ...       \n",
       "9995     342945015358701\n",
       "9996     210033169205009\n",
       "9997    6011539787356311\n",
       "9998     180003348082930\n",
       "9999    4139972901927273\n",
       "Name: Credit Card, Length: 10000, dtype: int64"
      ]
     },
     "execution_count": 38,
     "metadata": {},
     "output_type": "execute_result"
    }
   ],
   "source": [
    "df['Credit Card']"
   ]
  },
  {
   "cell_type": "markdown",
   "id": "631279ad-44ff-4a67-a019-0d853184532a",
   "metadata": {},
   "source": [
    "- Step 3: Finding the credit card number"
   ]
  },
  {
   "cell_type": "code",
   "execution_count": 39,
   "id": "d4388a73-732f-4687-a253-5065aa4ad980",
   "metadata": {},
   "outputs": [
    {
     "data": {
      "text/plain": [
       "0       False\n",
       "1       False\n",
       "2       False\n",
       "3       False\n",
       "4       False\n",
       "        ...  \n",
       "9995    False\n",
       "9996    False\n",
       "9997    False\n",
       "9998    False\n",
       "9999    False\n",
       "Name: Credit Card, Length: 10000, dtype: bool"
      ]
     },
     "execution_count": 39,
     "metadata": {},
     "output_type": "execute_result"
    }
   ],
   "source": [
    "df['Credit Card']==4664825258997302 "
   ]
  },
  {
   "cell_type": "markdown",
   "id": "ca31f746-2238-4bcd-860e-f1ae898f4265",
   "metadata": {},
   "source": [
    "- Step 4: Pass the boolean array to the dataframe"
   ]
  },
  {
   "cell_type": "code",
   "execution_count": 40,
   "id": "9ea70e79-204c-4fd2-9593-094109f134c4",
   "metadata": {},
   "outputs": [
    {
     "data": {
      "text/html": [
       "<div>\n",
       "<style scoped>\n",
       "    .dataframe tbody tr th:only-of-type {\n",
       "        vertical-align: middle;\n",
       "    }\n",
       "\n",
       "    .dataframe tbody tr th {\n",
       "        vertical-align: top;\n",
       "    }\n",
       "\n",
       "    .dataframe thead th {\n",
       "        text-align: right;\n",
       "    }\n",
       "</style>\n",
       "<table border=\"1\" class=\"dataframe\">\n",
       "  <thead>\n",
       "    <tr style=\"text-align: right;\">\n",
       "      <th></th>\n",
       "      <th>Address</th>\n",
       "      <th>Lot</th>\n",
       "      <th>AM or PM</th>\n",
       "      <th>Browser Info</th>\n",
       "      <th>Company</th>\n",
       "      <th>Credit Card</th>\n",
       "      <th>CC Exp Date</th>\n",
       "      <th>CC Security Code</th>\n",
       "      <th>CC Provider</th>\n",
       "      <th>Email</th>\n",
       "      <th>Job</th>\n",
       "      <th>IP Address</th>\n",
       "      <th>Language</th>\n",
       "      <th>Purchase Price</th>\n",
       "    </tr>\n",
       "  </thead>\n",
       "  <tbody>\n",
       "    <tr>\n",
       "      <th>9992</th>\n",
       "      <td>885 Allen Mountains Apt. 230\\nWallhaven, LA 16995</td>\n",
       "      <td>40 vH</td>\n",
       "      <td>PM</td>\n",
       "      <td>Mozilla/5.0 (Macintosh; PPC Mac OS X 10_6_5) A...</td>\n",
       "      <td>Wells Ltd</td>\n",
       "      <td>4664825258997302</td>\n",
       "      <td>10/20</td>\n",
       "      <td>431</td>\n",
       "      <td>Discover</td>\n",
       "      <td>bberry@wright.net</td>\n",
       "      <td>Set designer</td>\n",
       "      <td>174.173.51.32</td>\n",
       "      <td>de</td>\n",
       "      <td>67.96</td>\n",
       "    </tr>\n",
       "  </tbody>\n",
       "</table>\n",
       "</div>"
      ],
      "text/plain": [
       "                                                Address    Lot AM or PM  \\\n",
       "9992  885 Allen Mountains Apt. 230\\nWallhaven, LA 16995  40 vH       PM   \n",
       "\n",
       "                                           Browser Info    Company  \\\n",
       "9992  Mozilla/5.0 (Macintosh; PPC Mac OS X 10_6_5) A...  Wells Ltd   \n",
       "\n",
       "           Credit Card CC Exp Date  CC Security Code CC Provider  \\\n",
       "9992  4664825258997302       10/20               431    Discover   \n",
       "\n",
       "                  Email           Job     IP Address Language  Purchase Price  \n",
       "9992  bberry@wright.net  Set designer  174.173.51.32       de           67.96  "
      ]
     },
     "execution_count": 40,
     "metadata": {},
     "output_type": "execute_result"
    }
   ],
   "source": [
    "df[df['Credit Card']==4664825258997302] "
   ]
  },
  {
   "cell_type": "markdown",
   "id": "b9b6c46e-5595-49f6-9eb8-cb10164a5df2",
   "metadata": {},
   "source": [
    "- Step 5: Find the Email "
   ]
  },
  {
   "cell_type": "code",
   "execution_count": 41,
   "id": "a95f18f7-9adc-4946-93d8-e0d011505142",
   "metadata": {},
   "outputs": [
    {
     "data": {
      "text/plain": [
       "9992    bberry@wright.net\n",
       "Name: Email, dtype: object"
      ]
     },
     "execution_count": 41,
     "metadata": {},
     "output_type": "execute_result"
    }
   ],
   "source": [
    "df[df['Credit Card'] == 4664825258997302]['Email']"
   ]
  },
  {
   "cell_type": "markdown",
   "id": "52a1c578-6253-4997-a49e-f7566819dc72",
   "metadata": {},
   "source": [
    "# How many people purchase during 'AM' and 'PM'\n",
    "- Step 1: Retrieve all the column names"
   ]
  },
  {
   "cell_type": "code",
   "execution_count": 42,
   "id": "70b5ee55-1df0-4811-9c19-e05b032b1c3b",
   "metadata": {},
   "outputs": [
    {
     "data": {
      "text/plain": [
       "Index(['Address', 'Lot', 'AM or PM', 'Browser Info', 'Company', 'Credit Card',\n",
       "       'CC Exp Date', 'CC Security Code', 'CC Provider', 'Email', 'Job',\n",
       "       'IP Address', 'Language', 'Purchase Price'],\n",
       "      dtype='object')"
      ]
     },
     "execution_count": 42,
     "metadata": {},
     "output_type": "execute_result"
    }
   ],
   "source": [
    "df.columns"
   ]
  },
  {
   "cell_type": "markdown",
   "id": "c4490e46-4401-46a3-a7c3-efdfcf37978b",
   "metadata": {},
   "source": [
    "- Step 2: Retrieve the column"
   ]
  },
  {
   "cell_type": "code",
   "execution_count": 43,
   "id": "c14decc9-80c2-4841-859d-a3911b4091d8",
   "metadata": {},
   "outputs": [
    {
     "data": {
      "text/plain": [
       "0       PM\n",
       "1       PM\n",
       "2       PM\n",
       "3       PM\n",
       "4       AM\n",
       "        ..\n",
       "9995    PM\n",
       "9996    AM\n",
       "9997    AM\n",
       "9998    PM\n",
       "9999    AM\n",
       "Name: AM or PM, Length: 10000, dtype: object"
      ]
     },
     "execution_count": 43,
     "metadata": {},
     "output_type": "execute_result"
    }
   ],
   "source": [
    "df['AM or PM']"
   ]
  },
  {
   "cell_type": "markdown",
   "id": "83e1d074-ea50-4658-9f40-67167439b069",
   "metadata": {},
   "source": [
    "- Step 3: Finding the number of AM and PM orders"
   ]
  },
  {
   "cell_type": "code",
   "execution_count": 44,
   "id": "24ad8403-5668-4f60-8ab5-2070e4910091",
   "metadata": {},
   "outputs": [
    {
     "data": {
      "text/plain": [
       "AM or PM\n",
       "PM    5068\n",
       "AM    4932\n",
       "Name: count, dtype: int64"
      ]
     },
     "execution_count": 44,
     "metadata": {},
     "output_type": "execute_result"
    }
   ],
   "source": [
    "df['AM or PM'].value_counts()"
   ]
  },
  {
   "cell_type": "markdown",
   "id": "71c1bcf6-170a-40c9-8585-ee9dd85968cd",
   "metadata": {},
   "source": [
    "# How many people have a credit card that expires in 2025\n",
    "- Step 1: Retrieve all the column names"
   ]
  },
  {
   "cell_type": "code",
   "execution_count": 45,
   "id": "c5fdeba3-8c90-4c2c-bb56-d53a3022df59",
   "metadata": {},
   "outputs": [
    {
     "data": {
      "text/plain": [
       "Index(['Address', 'Lot', 'AM or PM', 'Browser Info', 'Company', 'Credit Card',\n",
       "       'CC Exp Date', 'CC Security Code', 'CC Provider', 'Email', 'Job',\n",
       "       'IP Address', 'Language', 'Purchase Price'],\n",
       "      dtype='object')"
      ]
     },
     "execution_count": 45,
     "metadata": {},
     "output_type": "execute_result"
    }
   ],
   "source": [
    "df.columns"
   ]
  },
  {
   "cell_type": "markdown",
   "id": "3a93bad4-7cfa-4d12-a8ac-275714640583",
   "metadata": {},
   "source": [
    "- Step 2: Retrieve the column"
   ]
  },
  {
   "cell_type": "code",
   "execution_count": 46,
   "id": "928079a6-996b-4806-8b13-b0c787f7c9f3",
   "metadata": {},
   "outputs": [
    {
     "data": {
      "text/plain": [
       "0       02/20\n",
       "1       11/18\n",
       "2       08/19\n",
       "3       02/24\n",
       "4       10/25\n",
       "        ...  \n",
       "9995    03/22\n",
       "9996    07/25\n",
       "9997    05/21\n",
       "9998    11/17\n",
       "9999    02/19\n",
       "Name: CC Exp Date, Length: 10000, dtype: object"
      ]
     },
     "execution_count": 46,
     "metadata": {},
     "output_type": "execute_result"
    }
   ],
   "source": [
    "df['CC Exp Date']"
   ]
  },
  {
   "cell_type": "markdown",
   "id": "573425be-d8ad-404b-9812-f75bc6236d95",
   "metadata": {},
   "source": [
    "- Step 3: Creating a function to find the expiration year of credit year"
   ]
  },
  {
   "cell_type": "code",
   "execution_count": 47,
   "id": "e87286d7-a6a7-4ee6-a67d-b55080a94179",
   "metadata": {},
   "outputs": [],
   "source": [
    "def findexp():\n",
    "    cnt=0\n",
    "    for date in df['CC Exp Date']:\n",
    "        if date.split('/')[1]=='25':\n",
    "            cnt=cnt+1\n",
    "    return cnt"
   ]
  },
  {
   "cell_type": "markdown",
   "id": "30f56461-b345-4e47-b90d-2c2fca5ce14d",
   "metadata": {},
   "source": [
    "- Step 4: Number of people whose cards expire in 2025"
   ]
  },
  {
   "cell_type": "code",
   "execution_count": 48,
   "id": "8e9eeca5-511e-4fe6-8952-4f8e50648a9a",
   "metadata": {},
   "outputs": [
    {
     "name": "stdout",
     "output_type": "stream",
     "text": [
      "Number of people having their Credit card expiry in 2025: 1033\n"
     ]
    }
   ],
   "source": [
    "print('Number of people having their Credit card expiry in 2025:',findexp())"
   ]
  },
  {
   "cell_type": "markdown",
   "id": "b1a9fdac-2cb7-4dea-a05b-d257c9fc3166",
   "metadata": {},
   "source": [
    "## Distribution of Email Domains"
   ]
  },
  {
   "cell_type": "code",
   "execution_count": 85,
   "id": "1ea5680e-643b-414e-8e3f-1627324a39a4",
   "metadata": {},
   "outputs": [
    {
     "name": "stdout",
     "output_type": "stream",
     "text": [
      "\n",
      "Bar Chart of Top 10 Email Domains:\n",
      " This chart displays the most common email domains among the transactions, offering insight into customer email provider preferences.\n"
     ]
    },
    {
     "data": {
      "image/png": "[encoded data removed]",
      "text/plain": [
       "<Figure size 1000x600 with 1 Axes>"
      ]
     },
     "metadata": {},
     "output_type": "display_data"
    }
   ],
   "source": [
    "print(\"\\nBar Chart of Top 10 Email Domains:\")\n",
    "print(\" This chart displays the most common email domains among the transactions, offering insight into customer email provider preferences.\")\n",
    "\n",
    "df['Email Domain'] = df['Email'].apply(lambda x: x.split('@')[-1])\n",
    "email_domain_counts = df['Email Domain'].value_counts().head(10)\n",
    "\n",
    "plt.figure(figsize=(10,6))\n",
    "plt.bar(email_domain_counts.index, email_domain_counts.values, edgecolor='black')\n",
    "plt.xlabel('Email Domain')\n",
    "plt.ylabel('Count')\n",
    "plt.title('Top 10 Email Domain Distribution')\n",
    "plt.xticks(rotation=45,ha=\"right\")  \n",
    "plt.show()"
   ]
  },
  {
   "cell_type": "markdown",
   "id": "1a72226e-39a0-4076-a809-9b6f2680c45c",
   "metadata": {},
   "source": [
    "## Distribution of Credit Card Expiration Years"
   ]
  },
  {
   "cell_type": "code",
   "execution_count": 86,
   "id": "46e38d43-36d4-40ae-96c3-6f87cacb71a7",
   "metadata": {},
   "outputs": [
    {
     "name": "stdout",
     "output_type": "stream",
     "text": [
      "\n",
      "Bar Chart of Credit Card Expiration Years:\n",
      " This bar chart shows the distribution of credit card expiration years, which may reveal patterns in card expiry cycles among customers.\n"
     ]
    },
    {
     "data": {
      "image/png": "[encoded data removed]",
      "text/plain": [
       "<Figure size 800x600 with 1 Axes>"
      ]
     },
     "metadata": {},
     "output_type": "display_data"
    }
   ],
   "source": [
    "print(\"\\nBar Chart of Credit Card Expiration Years:\")\n",
    "print(\" This bar chart shows the distribution of credit card expiration years, which may reveal patterns in card expiry cycles among customers.\")\n",
    "\n",
    "df['Exp Year'] = df['CC Exp Date'].apply(lambda x: '20' + x.split('/')[-1])\n",
    "exp_year_counts = df['Exp Year'].value_counts().sort_index()\n",
    "\n",
    "plt.figure(figsize=(8,6))\n",
    "plt.bar(exp_year_counts.index, exp_year_counts.values, edgecolor='black')\n",
    "plt.xlabel('Credit Card Expiration Year')\n",
    "plt.ylabel('Count')\n",
    "plt.title('Distribution of Credit Card Expiration Years')\n",
    "plt.xticks(rotation=45,ha=\"right\")   \n",
    "plt.show()\n"
   ]
  },
  {
   "cell_type": "markdown",
   "id": "c2a11045-843b-46e4-b913-1f19c7be0f36",
   "metadata": {},
   "source": [
    "## Distribution of Purchase Price"
   ]
  },
  {
   "cell_type": "code",
   "execution_count": 77,
   "id": "6540b7c5-e721-4721-b9ff-9f97d72c27a4",
   "metadata": {},
   "outputs": [
    {
     "name": "stdout",
     "output_type": "stream",
     "text": [
      "\n",
      "Description:\n",
      " This histogram shows the spread of purchase prices, indicating how frequently transactions occur at different price levels.\n"
     ]
    },
    {
     "data": {
      "image/png": "[encoded data removed]",
      "text/plain": [
       "<Figure size 800x600 with 1 Axes>"
      ]
     },
     "metadata": {},
     "output_type": "display_data"
    }
   ],
   "source": [
    "print(\"\\nDescription:\")\n",
    "print(\" This histogram shows the spread of purchase prices, indicating how frequently transactions occur at different price levels.\")\n",
    "plt.figure(figsize=(8,6))\n",
    "plt.hist(df['Purchase Price'], bins=30, edgecolor='black')\n",
    "plt.xlabel('Purchase Price')\n",
    "plt.ylabel('Frequency')\n",
    "plt.title('Distribution of Purchase Price')\n",
    "plt.show()"
   ]
  },
  {
   "cell_type": "markdown",
   "id": "eda90ae3-0e1c-4fa0-a072-fda52bc0a8c8",
   "metadata": {},
   "source": [
    "## Top 10 Browser Info Frequency"
   ]
  },
  {
   "cell_type": "code",
   "execution_count": 65,
   "id": "ee07738c-ee80-4437-a363-cfcba9ff4c26",
   "metadata": {},
   "outputs": [
    {
     "name": "stdout",
     "output_type": "stream",
     "text": [
      "\n",
      "Description:\n",
      "This bar chart displays the top 10 most common browsers used by customers when making transactions.\n"
     ]
    },
    {
     "data": {
      "image/png": "[encoded data removed]",
      "text/plain": [
       "<Figure size 1000x600 with 1 Axes>"
      ]
     },
     "metadata": {},
     "output_type": "display_data"
    }
   ],
   "source": [
    "print(\"\\nDescription:\")\n",
    "print(\"This bar chart displays the top 10 most common browsers used by customers when making transactions.\")\n",
    "\n",
    "browser_counts = df['Browser Info'].value_counts().head(10)\n",
    "plt.figure(figsize=(10,6))\n",
    "plt.bar(browser_counts.index, browser_counts.values, edgecolor='black')\n",
    "plt.xlabel('Browser Info')\n",
    "plt.ylabel('Count')\n",
    "plt.title('Top 10 Browser Info Distribution')\n",
    "plt.xticks(rotation=60,ha=\"right\")\n",
    "plt.show()\n"
   ]
  },
  {
   "cell_type": "markdown",
   "id": "a6227be1-40c4-4fe6-9ecc-d513f22f0824",
   "metadata": {},
   "source": [
    "## Distribution of Credit Card Providers"
   ]
  },
  {
   "cell_type": "code",
   "execution_count": 75,
   "id": "5b680de1-a610-4892-8d90-610302c978e5",
   "metadata": {},
   "outputs": [
    {
     "name": "stdout",
     "output_type": "stream",
     "text": [
      "\n",
      " Description:\n",
      " This chart shows the distribution of credit card providers among the transactions, indicating which providers are most common.\n"
     ]
    },
    {
     "data": {
      "image/png": "[encoded data removed]",
      "text/plain": [
       "<Figure size 1000x600 with 1 Axes>"
      ]
     },
     "metadata": {},
     "output_type": "display_data"
    }
   ],
   "source": [
    "print(\"\\n Description:\")\n",
    "print(\" This chart shows the distribution of credit card providers among the transactions, indicating which providers are most common.\")\n",
    "\n",
    "cc_provider_counts = df['CC Provider'].value_counts()\n",
    "plt.figure(figsize=(10,6))\n",
    "plt.bar(cc_provider_counts.index, cc_provider_counts.values, edgecolor='black')\n",
    "plt.xlabel('Credit Card Provider')\n",
    "plt.ylabel('Count')\n",
    "plt.title('Distribution of Credit Card Providers')\n",
    "plt.xticks(rotation=45,ha=\"right\")\n",
    "plt.show()\n"
   ]
  },
  {
   "cell_type": "markdown",
   "id": "c7a74b92-fcae-4179-a707-93a2e3047105",
   "metadata": {},
   "source": [
    "## Language Distribution (Pie Chart)"
   ]
  },
  {
   "cell_type": "code",
   "execution_count": 74,
   "id": "c78cc7fe-2364-433c-862a-cce37f21d240",
   "metadata": {},
   "outputs": [
    {
     "name": "stdout",
     "output_type": "stream",
     "text": [
      "\n",
      " Description:\n",
      " This pie chart illustrates the proportion of transactions by language, offering insight into the linguistic diversity of the customer base.\n"
     ]
    },
    {
     "data": {
      "image/png": "[encoded data removed]",
      "text/plain": [
       "<Figure size 800x800 with 1 Axes>"
      ]
     },
     "metadata": {},
     "output_type": "display_data"
    }
   ],
   "source": [
    "print(\"\\n Description:\")\n",
    "print(\" This pie chart illustrates the proportion of transactions by language, offering insight into the linguistic diversity of the customer base.\")\n",
    "\n",
    "language_counts = df['Language'].value_counts()\n",
    "plt.figure(figsize=(8,8))\n",
    "plt.pie(language_counts, labels=language_counts.index, autopct='%1.1f%%', startangle=140)\n",
    "plt.title('Language Distribution')\n",
    "plt.show()\n"
   ]
  },
  {
   "cell_type": "markdown",
   "id": "a034c54d-f448-48dd-aea5-15ffd72aee99",
   "metadata": {},
   "source": [
    "## Top 10 Jobs Frequency"
   ]
  },
  {
   "cell_type": "code",
   "execution_count": 70,
   "id": "5dd3c5a7-4039-40df-9ecd-e5b8a865e861",
   "metadata": {},
   "outputs": [
    {
     "name": "stdout",
     "output_type": "stream",
     "text": [
      "\n",
      " Description:\n",
      "This bar chart shows the top 10 most frequent jobs among customers, providing a glimpse into the professional backgrounds represented in the dataset.\n"
     ]
    },
    {
     "data": {
      "image/png": "[encoded data removed]",
      "text/plain": [
       "<Figure size 1000x600 with 1 Axes>"
      ]
     },
     "metadata": {},
     "output_type": "display_data"
    }
   ],
   "source": [
    "print(\"\\n Description:\")\n",
    "print(\"This bar chart shows the top 10 most frequent jobs among customers, providing a glimpse into the professional backgrounds represented in the dataset.\")\n",
    "job_counts = df['Job'].value_counts().head(10)\n",
    "plt.figure(figsize=(10,6))\n",
    "plt.bar(job_counts.index, job_counts.values, edgecolor='black')\n",
    "plt.xlabel('Job')\n",
    "plt.ylabel('Count')\n",
    "plt.title('Top 10 Jobs in the Dataset')\n",
    "plt.xticks(rotation=45,ha=\"right\")\n",
    "plt.show()\n"
   ]
  },
  {
   "cell_type": "markdown",
   "id": "debb6bd5-8d9d-48b9-ab93-3374d0a0a587",
   "metadata": {},
   "source": [
    "## Top 10 Companies Frequency"
   ]
  },
  {
   "cell_type": "code",
   "execution_count": 71,
   "id": "e6a5bdfc-2f41-4c6e-9b43-17f04ae69992",
   "metadata": {},
   "outputs": [
    {
     "name": "stdout",
     "output_type": "stream",
     "text": [
      "\n",
      " Description:\n",
      "This bar chart displays the top 10 companies in the dataset, which may indicate prominent employers or brands associated with the transactions.\n"
     ]
    },
    {
     "data": {
      "image/png": "[encoded data removed]",
      "text/plain": [
       "<Figure size 1000x600 with 1 Axes>"
      ]
     },
     "metadata": {},
     "output_type": "display_data"
    }
   ],
   "source": [
    "print(\"\\n Description:\")\n",
    "print(\"This bar chart displays the top 10 companies in the dataset, which may indicate prominent employers or brands associated with the transactions.\")\n",
    "company_counts = df['Company'].value_counts().head(10)\n",
    "plt.figure(figsize=(10,6))\n",
    "plt.bar(company_counts.index, company_counts.values, edgecolor='black')\n",
    "plt.xlabel('Company')\n",
    "plt.ylabel('Count')\n",
    "plt.title('Top 10 Companies in the Dataset')\n",
    "plt.xticks(rotation=45,ha=\"right\")\n",
    "plt.show()"
   ]
  },
  {
   "cell_type": "markdown",
   "id": "92bd912d-766b-416c-bbf6-7a6dfaab9ff8",
   "metadata": {},
   "source": [
    "## Average Purchase Price by Job (Top 10)"
   ]
  },
  {
   "cell_type": "code",
   "execution_count": 72,
   "id": "d24e6283-5867-4536-a5d2-0c196fa8ce39",
   "metadata": {},
   "outputs": [
    {
     "name": "stdout",
     "output_type": "stream",
     "text": [
      "Description:\n",
      "This bar chart displays the average purchase price for the top 10 job categories, revealing spending trends across different professional groups.\n"
     ]
    },
    {
     "data": {
      "image/png": "[encoded data removed]",
      "text/plain": [
       "<Figure size 1000x600 with 1 Axes>"
      ]
     },
     "metadata": {},
     "output_type": "display_data"
    }
   ],
   "source": [
    "print(\"Description:\")\n",
    "print(\"This bar chart displays the average purchase price for the top 10 job categories, revealing spending trends across different professional groups.\")\n",
    "avg_price_by_job = df.groupby('Job')['Purchase Price'].mean().sort_values(ascending=False).head(10)\n",
    "plt.figure(figsize=(10,6))\n",
    "plt.bar(avg_price_by_job.index, avg_price_by_job.values, edgecolor='black')\n",
    "plt.xlabel('Job')\n",
    "plt.ylabel('Average Purchase Price')\n",
    "plt.title('Average Purchase Price by Job (Top 10)')\n",
    "plt.xticks(rotation=45,ha=\"right\")\n",
    "plt.show()"
   ]
  },
  {
   "cell_type": "markdown",
   "id": "7d769b54-e657-4a48-a242-484f6c2ce8aa",
   "metadata": {},
   "source": [
    "# ***********************************************************************************************"
   ]
  },
  {
   "cell_type": "code",
   "execution_count": null,
   "id": "7907e3d0-1b10-4303-927a-bba872d3baf4",
   "metadata": {},
   "outputs": [],
   "source": []
  }
 ],
 "metadata": {
  "kernelspec": {
   "display_name": "Python 3 (ipykernel)",
   "language": "python",
   "name": "python3"
  },
  "language_info": {
   "codemirror_mode": {
    "name": "ipython",
    "version": 3
   },
   "file_extension": ".py",
   "mimetype": "text/x-python",
   "name": "python",
   "nbconvert_exporter": "python",
   "pygments_lexer": "ipython3",
   "version": "3.12.7"
  }
 },
 "nbformat": 4,
 "nbformat_minor": 5
}
